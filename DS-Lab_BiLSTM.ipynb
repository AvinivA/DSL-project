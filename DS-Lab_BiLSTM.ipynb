{
 "cells": [
  {
   "cell_type": "code",
   "execution_count": 1,
   "metadata": {},
   "outputs": [],
   "source": [
    "import numpy as np\n",
    "import pandas as pd\n",
    "import matplotlib.pyplot as plt "
   ]
  },
  {
   "cell_type": "code",
   "execution_count": 2,
   "metadata": {},
   "outputs": [],
   "source": [
    "df_train = pd.read_csv(\"train_reviews.csv\")"
   ]
  },
  {
   "cell_type": "code",
   "execution_count": 3,
   "metadata": {},
   "outputs": [
    {
     "data": {
      "text/html": [
       "<div>\n",
       "<style scoped>\n",
       "    .dataframe tbody tr th:only-of-type {\n",
       "        vertical-align: middle;\n",
       "    }\n",
       "\n",
       "    .dataframe tbody tr th {\n",
       "        vertical-align: top;\n",
       "    }\n",
       "\n",
       "    .dataframe thead th {\n",
       "        text-align: right;\n",
       "    }\n",
       "</style>\n",
       "<table border=\"1\" class=\"dataframe\">\n",
       "  <thead>\n",
       "    <tr style=\"text-align: right;\">\n",
       "      <th></th>\n",
       "      <th>review_title</th>\n",
       "      <th>review_body</th>\n",
       "      <th>review_date</th>\n",
       "      <th>review_rating</th>\n",
       "      <th>number_of_photos</th>\n",
       "      <th>helpful_vote</th>\n",
       "      <th>reviewer_ID</th>\n",
       "      <th>fake_asin</th>\n",
       "      <th>fake_review</th>\n",
       "      <th>product_ID</th>\n",
       "      <th>review_ID</th>\n",
       "    </tr>\n",
       "  </thead>\n",
       "  <tbody>\n",
       "    <tr>\n",
       "      <th>0</th>\n",
       "      <td>Super product</td>\n",
       "      <td>My husband has a hard time sleeping, the very ...</td>\n",
       "      <td>2020-04-13</td>\n",
       "      <td>5</td>\n",
       "      <td>0</td>\n",
       "      <td>0</td>\n",
       "      <td>380263</td>\n",
       "      <td>1</td>\n",
       "      <td>1</td>\n",
       "      <td>389</td>\n",
       "      <td>34510</td>\n",
       "    </tr>\n",
       "    <tr>\n",
       "      <th>1</th>\n",
       "      <td>Very sturdy</td>\n",
       "      <td>Rving</td>\n",
       "      <td>2020-08-29</td>\n",
       "      <td>5</td>\n",
       "      <td>0</td>\n",
       "      <td>0</td>\n",
       "      <td>845137</td>\n",
       "      <td>0</td>\n",
       "      <td>0</td>\n",
       "      <td>99</td>\n",
       "      <td>381688</td>\n",
       "    </tr>\n",
       "    <tr>\n",
       "      <th>2</th>\n",
       "      <td>Five Stars</td>\n",
       "      <td>has dramatically improved my toe nail appearances</td>\n",
       "      <td>2018-02-27</td>\n",
       "      <td>5</td>\n",
       "      <td>0</td>\n",
       "      <td>0</td>\n",
       "      <td>659759</td>\n",
       "      <td>0</td>\n",
       "      <td>0</td>\n",
       "      <td>107</td>\n",
       "      <td>417933</td>\n",
       "    </tr>\n",
       "    <tr>\n",
       "      <th>3</th>\n",
       "      <td>Great portable irrigator</td>\n",
       "      <td>I recently got braces and needed this for work...</td>\n",
       "      <td>2012-05-16</td>\n",
       "      <td>5</td>\n",
       "      <td>0</td>\n",
       "      <td>1</td>\n",
       "      <td>73493</td>\n",
       "      <td>0</td>\n",
       "      <td>0</td>\n",
       "      <td>66</td>\n",
       "      <td>166465</td>\n",
       "    </tr>\n",
       "    <tr>\n",
       "      <th>4</th>\n",
       "      <td>Four Stars</td>\n",
       "      <td>The Salad Shooter works great and saves time.</td>\n",
       "      <td>2015-01-05</td>\n",
       "      <td>4</td>\n",
       "      <td>0</td>\n",
       "      <td>0</td>\n",
       "      <td>714841</td>\n",
       "      <td>0</td>\n",
       "      <td>0</td>\n",
       "      <td>14</td>\n",
       "      <td>289006</td>\n",
       "    </tr>\n",
       "  </tbody>\n",
       "</table>\n",
       "</div>"
      ],
      "text/plain": [
       "               review_title  \\\n",
       "0             Super product   \n",
       "1               Very sturdy   \n",
       "2                Five Stars   \n",
       "3  Great portable irrigator   \n",
       "4                Four Stars   \n",
       "\n",
       "                                         review_body review_date  \\\n",
       "0  My husband has a hard time sleeping, the very ...  2020-04-13   \n",
       "1                                              Rving  2020-08-29   \n",
       "2  has dramatically improved my toe nail appearances  2018-02-27   \n",
       "3  I recently got braces and needed this for work...  2012-05-16   \n",
       "4      The Salad Shooter works great and saves time.  2015-01-05   \n",
       "\n",
       "   review_rating  number_of_photos  helpful_vote  reviewer_ID  fake_asin  \\\n",
       "0              5                 0             0       380263          1   \n",
       "1              5                 0             0       845137          0   \n",
       "2              5                 0             0       659759          0   \n",
       "3              5                 0             1        73493          0   \n",
       "4              4                 0             0       714841          0   \n",
       "\n",
       "   fake_review  product_ID  review_ID  \n",
       "0            1         389      34510  \n",
       "1            0          99     381688  \n",
       "2            0         107     417933  \n",
       "3            0          66     166465  \n",
       "4            0          14     289006  "
      ]
     },
     "execution_count": 3,
     "metadata": {},
     "output_type": "execute_result"
    }
   ],
   "source": [
    "df_train.head()"
   ]
  },
  {
   "cell_type": "code",
   "execution_count": 4,
   "metadata": {},
   "outputs": [
    {
     "data": {
      "text/html": [
       "<div>\n",
       "<style scoped>\n",
       "    .dataframe tbody tr th:only-of-type {\n",
       "        vertical-align: middle;\n",
       "    }\n",
       "\n",
       "    .dataframe tbody tr th {\n",
       "        vertical-align: top;\n",
       "    }\n",
       "\n",
       "    .dataframe thead th {\n",
       "        text-align: right;\n",
       "    }\n",
       "</style>\n",
       "<table border=\"1\" class=\"dataframe\">\n",
       "  <thead>\n",
       "    <tr style=\"text-align: right;\">\n",
       "      <th></th>\n",
       "      <th>Total</th>\n",
       "      <th>Percent</th>\n",
       "    </tr>\n",
       "  </thead>\n",
       "  <tbody>\n",
       "    <tr>\n",
       "      <th>review_title</th>\n",
       "      <td>357</td>\n",
       "      <td>0.090895</td>\n",
       "    </tr>\n",
       "    <tr>\n",
       "      <th>review_body</th>\n",
       "      <td>44</td>\n",
       "      <td>0.011203</td>\n",
       "    </tr>\n",
       "    <tr>\n",
       "      <th>review_date</th>\n",
       "      <td>0</td>\n",
       "      <td>0.000000</td>\n",
       "    </tr>\n",
       "    <tr>\n",
       "      <th>review_rating</th>\n",
       "      <td>0</td>\n",
       "      <td>0.000000</td>\n",
       "    </tr>\n",
       "    <tr>\n",
       "      <th>number_of_photos</th>\n",
       "      <td>0</td>\n",
       "      <td>0.000000</td>\n",
       "    </tr>\n",
       "    <tr>\n",
       "      <th>helpful_vote</th>\n",
       "      <td>0</td>\n",
       "      <td>0.000000</td>\n",
       "    </tr>\n",
       "    <tr>\n",
       "      <th>reviewer_ID</th>\n",
       "      <td>0</td>\n",
       "      <td>0.000000</td>\n",
       "    </tr>\n",
       "    <tr>\n",
       "      <th>fake_asin</th>\n",
       "      <td>0</td>\n",
       "      <td>0.000000</td>\n",
       "    </tr>\n",
       "    <tr>\n",
       "      <th>fake_review</th>\n",
       "      <td>0</td>\n",
       "      <td>0.000000</td>\n",
       "    </tr>\n",
       "    <tr>\n",
       "      <th>product_ID</th>\n",
       "      <td>0</td>\n",
       "      <td>0.000000</td>\n",
       "    </tr>\n",
       "    <tr>\n",
       "      <th>review_ID</th>\n",
       "      <td>0</td>\n",
       "      <td>0.000000</td>\n",
       "    </tr>\n",
       "  </tbody>\n",
       "</table>\n",
       "</div>"
      ],
      "text/plain": [
       "                  Total   Percent\n",
       "review_title        357  0.090895\n",
       "review_body          44  0.011203\n",
       "review_date           0  0.000000\n",
       "review_rating         0  0.000000\n",
       "number_of_photos      0  0.000000\n",
       "helpful_vote          0  0.000000\n",
       "reviewer_ID           0  0.000000\n",
       "fake_asin             0  0.000000\n",
       "fake_review           0  0.000000\n",
       "product_ID            0  0.000000\n",
       "review_ID             0  0.000000"
      ]
     },
     "execution_count": 4,
     "metadata": {},
     "output_type": "execute_result"
    }
   ],
   "source": [
    "total = df_train.isnull().sum().sort_values(ascending=False)\n",
    "percent = ((df_train.isnull().sum()/df_train.isnull().count())*100).sort_values(ascending=False)\n",
    "missing_data = pd.concat([total, percent], axis=1, keys=['Total', 'Percent'])\n",
    "missing_data"
   ]
  },
  {
   "cell_type": "code",
   "execution_count": 5,
   "metadata": {},
   "outputs": [],
   "source": [
    "df_train=df_train.dropna(subset='review_body', axis=0, how='any')"
   ]
  },
  {
   "cell_type": "code",
   "execution_count": 12,
   "metadata": {},
   "outputs": [
    {
     "data": {
      "text/plain": [
       "(392716, 11)"
      ]
     },
     "execution_count": 12,
     "metadata": {},
     "output_type": "execute_result"
    }
   ],
   "source": [
    "df_train.shape"
   ]
  },
  {
   "cell_type": "code",
   "execution_count": 6,
   "metadata": {},
   "outputs": [],
   "source": [
    "df_price=pd.read_csv(\"price_data.csv\")\n",
    "df_rank=pd.read_csv(\"rank_data.csv\")\n",
    "\n"
   ]
  },
  {
   "cell_type": "code",
   "execution_count": 7,
   "metadata": {},
   "outputs": [],
   "source": [
    "import seaborn as sns"
   ]
  },
  {
   "cell_type": "code",
   "execution_count": 8,
   "metadata": {},
   "outputs": [
    {
     "data": {
      "text/plain": [
       "(77917, 3)"
      ]
     },
     "execution_count": 8,
     "metadata": {},
     "output_type": "execute_result"
    }
   ],
   "source": [
    "df_price.shape"
   ]
  },
  {
   "cell_type": "code",
   "execution_count": 9,
   "metadata": {},
   "outputs": [],
   "source": [
    "df_rank = df_rank.rename(columns={'date': 'review_date'})"
   ]
  },
  {
   "cell_type": "code",
   "execution_count": 10,
   "metadata": {},
   "outputs": [],
   "source": [
    "df_train_rank=pd.merge(df_train,df_rank, on=['review_date', 'product_ID'], how='inner')"
   ]
  },
  {
   "cell_type": "code",
   "execution_count": 11,
   "metadata": {},
   "outputs": [
    {
     "data": {
      "text/plain": [
       "(275733, 12)"
      ]
     },
     "execution_count": 11,
     "metadata": {},
     "output_type": "execute_result"
    }
   ],
   "source": [
    "df_train_rank.shape"
   ]
  },
  {
   "cell_type": "code",
   "execution_count": 12,
   "metadata": {},
   "outputs": [
    {
     "data": {
      "text/plain": [
       "<AxesSubplot: xlabel='fake_review', ylabel='count'>"
      ]
     },
     "execution_count": 12,
     "metadata": {},
     "output_type": "execute_result"
    },
    {
     "data": {
      "image/png": "[encoded data removed]",
      "text/plain": [
       "<Figure size 640x480 with 1 Axes>"
      ]
     },
     "metadata": {},
     "output_type": "display_data"
    }
   ],
   "source": [
    "import seaborn as sns\n",
    "sns.countplot(x=df_train_rank['fake_review'])"
   ]
  },
  {
   "cell_type": "code",
   "execution_count": 13,
   "metadata": {},
   "outputs": [
    {
     "data": {
      "text/plain": [
       "0    259938\n",
       "1     15795\n",
       "Name: fake_review, dtype: int64"
      ]
     },
     "execution_count": 13,
     "metadata": {},
     "output_type": "execute_result"
    }
   ],
   "source": [
    "df_train_rank['fake_review'].value_counts()"
   ]
  },
  {
   "cell_type": "code",
   "execution_count": 14,
   "metadata": {},
   "outputs": [
    {
     "name": "stdout",
     "output_type": "stream",
     "text": [
      "446\n"
     ]
    }
   ],
   "source": [
    "print(len(df_train_rank[\"product_ID\"].unique()))"
   ]
  },
  {
   "cell_type": "code",
   "execution_count": 15,
   "metadata": {},
   "outputs": [],
   "source": [
    "df_train_rank_fake= df_train_rank[df_train_rank['fake_review']==1]"
   ]
  },
  {
   "cell_type": "code",
   "execution_count": 16,
   "metadata": {},
   "outputs": [],
   "source": [
    "df_train_rank_non_fake= df_train_rank[df_train_rank['fake_review']==0]"
   ]
  },
  {
   "cell_type": "code",
   "execution_count": 17,
   "metadata": {},
   "outputs": [
    {
     "name": "stdout",
     "output_type": "stream",
     "text": [
      "(15795, 12)\n",
      "(259938, 12)\n"
     ]
    }
   ],
   "source": [
    "print(df_train_rank_fake.shape)\n",
    "print(df_train_rank_non_fake.shape)"
   ]
  },
  {
   "cell_type": "code",
   "execution_count": 18,
   "metadata": {},
   "outputs": [
    {
     "data": {
      "text/plain": [
       "(15795, 12)"
      ]
     },
     "execution_count": 18,
     "metadata": {},
     "output_type": "execute_result"
    }
   ],
   "source": [
    "non_fake_downsampled= df_train_rank_non_fake.sample(df_train_rank_fake.shape[0], random_state=42)\n",
    "non_fake_downsampled.shape"
   ]
  },
  {
   "cell_type": "code",
   "execution_count": 19,
   "metadata": {},
   "outputs": [],
   "source": [
    "df_balanced=pd.concat([non_fake_downsampled, df_train_rank_fake])"
   ]
  },
  {
   "cell_type": "code",
   "execution_count": 20,
   "metadata": {},
   "outputs": [
    {
     "data": {
      "text/plain": [
       "<AxesSubplot: xlabel='fake_review', ylabel='count'>"
      ]
     },
     "execution_count": 20,
     "metadata": {},
     "output_type": "execute_result"
    },
    {
     "data": {
      "image/png": "[encoded data removed]",
      "text/plain": [
       "<Figure size 640x480 with 1 Axes>"
      ]
     },
     "metadata": {},
     "output_type": "display_data"
    }
   ],
   "source": [
    "sns.countplot(x=df_balanced['fake_review'])"
   ]
  },
  {
   "cell_type": "code",
   "execution_count": 21,
   "metadata": {},
   "outputs": [
    {
     "data": {
      "text/html": [
       "<div>\n",
       "<style scoped>\n",
       "    .dataframe tbody tr th:only-of-type {\n",
       "        vertical-align: middle;\n",
       "    }\n",
       "\n",
       "    .dataframe tbody tr th {\n",
       "        vertical-align: top;\n",
       "    }\n",
       "\n",
       "    .dataframe thead th {\n",
       "        text-align: right;\n",
       "    }\n",
       "</style>\n",
       "<table border=\"1\" class=\"dataframe\">\n",
       "  <thead>\n",
       "    <tr style=\"text-align: right;\">\n",
       "      <th></th>\n",
       "      <th>review_title</th>\n",
       "      <th>review_body</th>\n",
       "      <th>review_date</th>\n",
       "      <th>review_rating</th>\n",
       "      <th>number_of_photos</th>\n",
       "      <th>helpful_vote</th>\n",
       "      <th>reviewer_ID</th>\n",
       "      <th>fake_asin</th>\n",
       "      <th>fake_review</th>\n",
       "      <th>product_ID</th>\n",
       "      <th>review_ID</th>\n",
       "      <th>rank</th>\n",
       "    </tr>\n",
       "  </thead>\n",
       "  <tbody>\n",
       "    <tr>\n",
       "      <th>98414</th>\n",
       "      <td>Four Stars</td>\n",
       "      <td>Gave as a gift, but never heard anything back,...</td>\n",
       "      <td>2018-03-09</td>\n",
       "      <td>4</td>\n",
       "      <td>0</td>\n",
       "      <td>0</td>\n",
       "      <td>979093</td>\n",
       "      <td>0</td>\n",
       "      <td>0</td>\n",
       "      <td>291</td>\n",
       "      <td>101755</td>\n",
       "      <td>80</td>\n",
       "    </tr>\n",
       "    <tr>\n",
       "      <th>258017</th>\n",
       "      <td>Easy fill.....</td>\n",
       "      <td>Handy and cute.  I love the design and spout.</td>\n",
       "      <td>2019-12-19</td>\n",
       "      <td>5</td>\n",
       "      <td>0</td>\n",
       "      <td>0</td>\n",
       "      <td>425076</td>\n",
       "      <td>0</td>\n",
       "      <td>0</td>\n",
       "      <td>87</td>\n",
       "      <td>54405</td>\n",
       "      <td>271</td>\n",
       "    </tr>\n",
       "    <tr>\n",
       "      <th>214183</th>\n",
       "      <td>Mostly happy</td>\n",
       "      <td>I bought one of these and it was great very ha...</td>\n",
       "      <td>2020-02-05</td>\n",
       "      <td>3</td>\n",
       "      <td>0</td>\n",
       "      <td>0</td>\n",
       "      <td>1018676</td>\n",
       "      <td>0</td>\n",
       "      <td>0</td>\n",
       "      <td>238</td>\n",
       "      <td>229627</td>\n",
       "      <td>2244</td>\n",
       "    </tr>\n",
       "    <tr>\n",
       "      <th>178795</th>\n",
       "      <td>Keeps curls tight</td>\n",
       "      <td>Perfect heat</td>\n",
       "      <td>2019-03-14</td>\n",
       "      <td>5</td>\n",
       "      <td>0</td>\n",
       "      <td>0</td>\n",
       "      <td>402085</td>\n",
       "      <td>0</td>\n",
       "      <td>0</td>\n",
       "      <td>72</td>\n",
       "      <td>288760</td>\n",
       "      <td>20842</td>\n",
       "    </tr>\n",
       "    <tr>\n",
       "      <th>215713</th>\n",
       "      <td>Just a so so product.</td>\n",
       "      <td>It is hard to read from any distance more than...</td>\n",
       "      <td>2017-02-09</td>\n",
       "      <td>3</td>\n",
       "      <td>0</td>\n",
       "      <td>0</td>\n",
       "      <td>812792</td>\n",
       "      <td>0</td>\n",
       "      <td>0</td>\n",
       "      <td>145</td>\n",
       "      <td>13026</td>\n",
       "      <td>19050</td>\n",
       "    </tr>\n",
       "  </tbody>\n",
       "</table>\n",
       "</div>"
      ],
      "text/plain": [
       "                 review_title  \\\n",
       "98414              Four Stars   \n",
       "258017         Easy fill.....   \n",
       "214183           Mostly happy   \n",
       "178795      Keeps curls tight   \n",
       "215713  Just a so so product.   \n",
       "\n",
       "                                              review_body review_date  \\\n",
       "98414   Gave as a gift, but never heard anything back,...  2018-03-09   \n",
       "258017      Handy and cute.  I love the design and spout.  2019-12-19   \n",
       "214183  I bought one of these and it was great very ha...  2020-02-05   \n",
       "178795                                       Perfect heat  2019-03-14   \n",
       "215713  It is hard to read from any distance more than...  2017-02-09   \n",
       "\n",
       "        review_rating  number_of_photos  helpful_vote  reviewer_ID  fake_asin  \\\n",
       "98414               4                 0             0       979093          0   \n",
       "258017              5                 0             0       425076          0   \n",
       "214183              3                 0             0      1018676          0   \n",
       "178795              5                 0             0       402085          0   \n",
       "215713              3                 0             0       812792          0   \n",
       "\n",
       "        fake_review  product_ID  review_ID   rank  \n",
       "98414             0         291     101755     80  \n",
       "258017            0          87      54405    271  \n",
       "214183            0         238     229627   2244  \n",
       "178795            0          72     288760  20842  \n",
       "215713            0         145      13026  19050  "
      ]
     },
     "execution_count": 21,
     "metadata": {},
     "output_type": "execute_result"
    }
   ],
   "source": [
    "df_balanced.head()"
   ]
  },
  {
   "cell_type": "code",
   "execution_count": 22,
   "metadata": {},
   "outputs": [],
   "source": [
    "import os\n",
    "import string\n",
    "import datetime\n",
    "import gensim\n",
    "import pandas as pd\n",
    "import numpy as np\n",
    "import tensorflow as tf\n",
    "import keras_tuner as kt\n",
    "import tensorflow.keras as keras\n",
    "import matplotlib.image  as mpimg\n",
    "import matplotlib.pyplot as plt\n",
    "import os.path\n",
    "import shutil"
   ]
  },
  {
   "cell_type": "code",
   "execution_count": 24,
   "metadata": {},
   "outputs": [],
   "source": [
    "from sklearn.model_selection import train_test_split\n",
    "from keras.preprocessing.text import Tokenizer\n",
    "from keras.utils import pad_sequences\n",
    "from keras.layers import Input,concatenate,Activation, Dense, Dropout, Embedding, Flatten,Bidirectional, LSTM\n",
    "from keras.models import Model\n",
    "from keras.initializers import Constant\n",
    "from keras.optimizers import Adam"
   ]
  },
  {
   "cell_type": "code",
   "execution_count": 25,
   "metadata": {},
   "outputs": [],
   "source": [
    "def plot_graphs(history, metric):\n",
    "  plt.plot(history.history[metric])\n",
    "  plt.plot(history.history['val_'+metric], '')\n",
    "  plt.xlabel(\"Epochs\")\n",
    "  plt.ylabel(metric)\n",
    "  plt.legend([metric, 'val_'+metric])"
   ]
  },
  {
   "cell_type": "code",
   "execution_count": 28,
   "metadata": {},
   "outputs": [
    {
     "data": {
      "text/html": [
       "<div>\n",
       "<style scoped>\n",
       "    .dataframe tbody tr th:only-of-type {\n",
       "        vertical-align: middle;\n",
       "    }\n",
       "\n",
       "    .dataframe tbody tr th {\n",
       "        vertical-align: top;\n",
       "    }\n",
       "\n",
       "    .dataframe thead th {\n",
       "        text-align: right;\n",
       "    }\n",
       "</style>\n",
       "<table border=\"1\" class=\"dataframe\">\n",
       "  <thead>\n",
       "    <tr style=\"text-align: right;\">\n",
       "      <th></th>\n",
       "      <th>review_body</th>\n",
       "      <th>review_rating</th>\n",
       "      <th>fake_review</th>\n",
       "      <th>fake_asin</th>\n",
       "    </tr>\n",
       "  </thead>\n",
       "  <tbody>\n",
       "    <tr>\n",
       "      <th>98414</th>\n",
       "      <td>Gave as a gift, but never heard anything back,...</td>\n",
       "      <td>4</td>\n",
       "      <td>0</td>\n",
       "      <td>0</td>\n",
       "    </tr>\n",
       "    <tr>\n",
       "      <th>258017</th>\n",
       "      <td>Handy and cute.  I love the design and spout.</td>\n",
       "      <td>5</td>\n",
       "      <td>0</td>\n",
       "      <td>0</td>\n",
       "    </tr>\n",
       "    <tr>\n",
       "      <th>214183</th>\n",
       "      <td>I bought one of these and it was great very ha...</td>\n",
       "      <td>3</td>\n",
       "      <td>0</td>\n",
       "      <td>0</td>\n",
       "    </tr>\n",
       "    <tr>\n",
       "      <th>178795</th>\n",
       "      <td>Perfect heat</td>\n",
       "      <td>5</td>\n",
       "      <td>0</td>\n",
       "      <td>0</td>\n",
       "    </tr>\n",
       "    <tr>\n",
       "      <th>215713</th>\n",
       "      <td>It is hard to read from any distance more than...</td>\n",
       "      <td>3</td>\n",
       "      <td>0</td>\n",
       "      <td>0</td>\n",
       "    </tr>\n",
       "  </tbody>\n",
       "</table>\n",
       "</div>"
      ],
      "text/plain": [
       "                                              review_body  review_rating  \\\n",
       "98414   Gave as a gift, but never heard anything back,...              4   \n",
       "258017      Handy and cute.  I love the design and spout.              5   \n",
       "214183  I bought one of these and it was great very ha...              3   \n",
       "178795                                       Perfect heat              5   \n",
       "215713  It is hard to read from any distance more than...              3   \n",
       "\n",
       "        fake_review  fake_asin  \n",
       "98414             0          0  \n",
       "258017            0          0  \n",
       "214183            0          0  \n",
       "178795            0          0  \n",
       "215713            0          0  "
      ]
     },
     "execution_count": 28,
     "metadata": {},
     "output_type": "execute_result"
    }
   ],
   "source": [
    "\n",
    "features = [\"review_body\", \"review_rating\", \"fake_review\", \"fake_asin\"]\n",
    "df_balanced= df_balanced[features]\n",
    "df_balanced.head()"
   ]
  },
  {
   "cell_type": "code",
   "execution_count": 29,
   "metadata": {},
   "outputs": [],
   "source": [
    "def remove_punctuation(txt):\n",
    "  #We lower-case every word \n",
    "  text_lower = \"\".join([c.lower() for c in txt])\n",
    "  #Then we remove punctuations\n",
    "  txt_nonpunct = \"\".join([c for c in text_lower if c not in string.punctuation])\n",
    "  return txt_nonpunct"
   ]
  },
  {
   "cell_type": "code",
   "execution_count": 30,
   "metadata": {},
   "outputs": [],
   "source": [
    "df_balanced['review_body'] = df_balanced['review_body'].apply(lambda x: remove_punctuation(x))\n",
    "     "
   ]
  },
  {
   "cell_type": "code",
   "execution_count": 31,
   "metadata": {},
   "outputs": [
    {
     "data": {
      "text/html": [
       "<div>\n",
       "<style scoped>\n",
       "    .dataframe tbody tr th:only-of-type {\n",
       "        vertical-align: middle;\n",
       "    }\n",
       "\n",
       "    .dataframe tbody tr th {\n",
       "        vertical-align: top;\n",
       "    }\n",
       "\n",
       "    .dataframe thead th {\n",
       "        text-align: right;\n",
       "    }\n",
       "</style>\n",
       "<table border=\"1\" class=\"dataframe\">\n",
       "  <thead>\n",
       "    <tr style=\"text-align: right;\">\n",
       "      <th></th>\n",
       "      <th>review_body</th>\n",
       "      <th>review_rating</th>\n",
       "      <th>fake_review</th>\n",
       "      <th>fake_asin</th>\n",
       "    </tr>\n",
       "  </thead>\n",
       "  <tbody>\n",
       "    <tr>\n",
       "      <th>98414</th>\n",
       "      <td>gave as a gift but never heard anything back b...</td>\n",
       "      <td>4</td>\n",
       "      <td>0</td>\n",
       "      <td>0</td>\n",
       "    </tr>\n",
       "    <tr>\n",
       "      <th>258017</th>\n",
       "      <td>handy and cute  i love the design and spout</td>\n",
       "      <td>5</td>\n",
       "      <td>0</td>\n",
       "      <td>0</td>\n",
       "    </tr>\n",
       "    <tr>\n",
       "      <th>214183</th>\n",
       "      <td>i bought one of these and it was great very ha...</td>\n",
       "      <td>3</td>\n",
       "      <td>0</td>\n",
       "      <td>0</td>\n",
       "    </tr>\n",
       "    <tr>\n",
       "      <th>178795</th>\n",
       "      <td>perfect heat</td>\n",
       "      <td>5</td>\n",
       "      <td>0</td>\n",
       "      <td>0</td>\n",
       "    </tr>\n",
       "    <tr>\n",
       "      <th>215713</th>\n",
       "      <td>it is hard to read from any distance more than...</td>\n",
       "      <td>3</td>\n",
       "      <td>0</td>\n",
       "      <td>0</td>\n",
       "    </tr>\n",
       "  </tbody>\n",
       "</table>\n",
       "</div>"
      ],
      "text/plain": [
       "                                              review_body  review_rating  \\\n",
       "98414   gave as a gift but never heard anything back b...              4   \n",
       "258017        handy and cute  i love the design and spout              5   \n",
       "214183  i bought one of these and it was great very ha...              3   \n",
       "178795                                       perfect heat              5   \n",
       "215713  it is hard to read from any distance more than...              3   \n",
       "\n",
       "        fake_review  fake_asin  \n",
       "98414             0          0  \n",
       "258017            0          0  \n",
       "214183            0          0  \n",
       "178795            0          0  \n",
       "215713            0          0  "
      ]
     },
     "execution_count": 31,
     "metadata": {},
     "output_type": "execute_result"
    }
   ],
   "source": [
    "df_balanced.head()"
   ]
  },
  {
   "cell_type": "code",
   "execution_count": 32,
   "metadata": {},
   "outputs": [],
   "source": [
    "train_size=0.7\n",
    "\n",
    "X = df_balanced.copy()\n",
    "\n",
    "# In the first step we will split the data in training and remaining dataset\n",
    "X_train, X_rem= train_test_split(X, train_size=train_size)\n",
    "\n",
    "# # Now since we want the valid and test size to be equal (10% each of overall data). \n",
    "# # we have to define valid_size=0.5 (that is 50% of remaining data)\n",
    "test_size = 0.5\n",
    "X_valid, X_test = train_test_split(X_rem, test_size=0.5)"
   ]
  },
  {
   "cell_type": "code",
   "execution_count": 33,
   "metadata": {},
   "outputs": [],
   "source": [
    "train_rating = X_train.pop('review_rating')\n",
    "valid_rating = X_valid.pop('review_rating')\n",
    "test_rating = X_test.pop('review_rating')\n"
   ]
  },
  {
   "cell_type": "code",
   "execution_count": 36,
   "metadata": {},
   "outputs": [],
   "source": [
    "train_asin = X_train.pop('fake_asin')\n",
    "valid_asin = X_valid.pop('fake_asin')\n",
    "test_asin = X_test.pop('fake_asin')"
   ]
  },
  {
   "cell_type": "code",
   "execution_count": 37,
   "metadata": {},
   "outputs": [],
   "source": [
    "train_label = X_train.pop('fake_review')\n",
    "valid_label = X_valid.pop('fake_review')\n",
    "test_label = X_test.pop('fake_review')"
   ]
  },
  {
   "cell_type": "code",
   "execution_count": 38,
   "metadata": {},
   "outputs": [],
   "source": [
    "oov_token = \"\"\n",
    "max_length = 100\n",
    "padding_type = \"post\"\n",
    "truncation_type=\"post\""
   ]
  },
  {
   "cell_type": "code",
   "execution_count": 40,
   "metadata": {},
   "outputs": [
    {
     "name": "stdout",
     "output_type": "stream",
     "text": [
      "Vocab Size is  24796\n"
     ]
    }
   ],
   "source": [
    "tokenizer = Tokenizer(oov_token=oov_token)\n",
    "tokenizer.fit_on_texts(X_train.review_body)\n",
    "vocab_size = len(tokenizer.word_index)+1\n",
    "print('Vocab Size is ',vocab_size)"
   ]
  },
  {
   "cell_type": "code",
   "execution_count": 45,
   "metadata": {},
   "outputs": [],
   "source": [
    "X_train_sequences = tokenizer.texts_to_sequences(X_train.review_body)\n",
    "X_train_padded = pad_sequences(X_train_sequences,maxlen=max_length, padding=padding_type, \n",
    "                       truncating=truncation_type)\n",
    "\n",
    "#Tokenize and padding for the \"REVIEW_TEXT\" column of the validation dataset\n",
    "X_val_sequences = tokenizer.texts_to_sequences(X_valid.review_body)\n",
    "X_val_padded = pad_sequences(X_val_sequences,maxlen=max_length, \n",
    "                               padding=padding_type, truncating=truncation_type)\n",
    "\n",
    "#Tokenize and padding for the \"REVIEW_TEXT\" column of the test dataset\n",
    "X_test_sequences = tokenizer.texts_to_sequences(X_test.review_body)\n",
    "X_test_padded = pad_sequences(X_test_sequences,maxlen=max_length, \n",
    "                               padding=padding_type, truncating=truncation_type)\n"
   ]
  },
  {
   "cell_type": "code",
   "execution_count": 48,
   "metadata": {},
   "outputs": [],
   "source": [
    "documents = []\n",
    "# We split each text of the \"REVIEW_TEXT\" column\n",
    "for _text in X_train.review_body:    \n",
    "    documents.append((_text.split(\" \")))\n",
    "     "
   ]
  },
  {
   "cell_type": "code",
   "execution_count": 50,
   "metadata": {},
   "outputs": [],
   "source": [
    "W2V_SIZE = 100\n",
    "W2V_WINDOW = 7\n",
    "W2V_EPOCH = 64\n",
    "W2V_MIN_COUNT = 5\n",
    "W2V_SG = 1 \n",
    "\n",
    "#We get the Word2Vec model from gensim\n",
    "w2v_model = gensim.models.word2vec.Word2Vec(vector_size=W2V_SIZE, \n",
    "                                            sg = W2V_SG,\n",
    "                                            window=W2V_WINDOW, \n",
    "                                            min_count=W2V_MIN_COUNT,\n",
    "                                            workers=8)\n",
    "\n",
    "#We build the vocabulary\n",
    "w2v_model.build_vocab(documents)"
   ]
  },
  {
   "cell_type": "code",
   "execution_count": 51,
   "metadata": {},
   "outputs": [
    {
     "data": {
      "text/plain": [
       "(38221636, 55009792)"
      ]
     },
     "execution_count": 51,
     "metadata": {},
     "output_type": "execute_result"
    }
   ],
   "source": [
    "w2v_model.train(documents, total_examples=len(documents), epochs=W2V_EPOCH)\n"
   ]
  },
  {
   "cell_type": "code",
   "execution_count": 52,
   "metadata": {},
   "outputs": [
    {
     "name": "stdout",
     "output_type": "stream",
     "text": [
      "(24796, 100)\n"
     ]
    }
   ],
   "source": [
    "embedding_matrix = np.zeros((vocab_size , W2V_SIZE))\n",
    "for word , i in tokenizer.word_index.items():\n",
    "    if word in w2v_model.wv:\n",
    "        embedding_matrix[i] = w2v_model.wv[word]\n",
    "print(embedding_matrix.shape)"
   ]
  },
  {
   "cell_type": "code",
   "execution_count": 53,
   "metadata": {},
   "outputs": [],
   "source": [
    "embedding_layer = Embedding(len(tokenizer.word_index) + 1,\n",
    "                            max_length,\n",
    "                            embeddings_initializer= Constant(embedding_matrix),\n",
    "                            trainable=False)"
   ]
  },
  {
   "cell_type": "code",
   "execution_count": 71,
   "metadata": {},
   "outputs": [],
   "source": [
    "review_branch_ip = Input(shape=(100,), name='Review_input')\n",
    "review_branch = embedding_layer(review_branch_ip)\n",
    "review_branch = Dropout(0.2)(review_branch)\n",
    "review_branch = Bidirectional(\n",
    "    LSTM(64, dropout=0.2,recurrent_dropout=0)\n",
    ")(review_branch)\n",
    "review_branch = Dense(64,activation='relu')(review_branch)\n",
    "review_branch_op = Dense(16, activation='relu')(review_branch)\n",
    "\n",
    "\n",
    "rating_branch_ip = Input(shape=(1,), name='Rating_input')\n",
    "rating_branch = Dense(8,activation='relu')(rating_branch_ip)\n",
    "rating_branch = Dropout(0.2)(rating_branch)\n",
    "rating_branch_op = Dense(16,activation='relu')(rating_branch)\n",
    "\n",
    "\n",
    "\n",
    "\n",
    "fake_asin_branch_ip = Input(shape=(1,), name='fake_asin_input')\n",
    "fake_asin_branch = Dense(8,activation='relu')(fake_asin_branch_ip)\n",
    "fake_asin_branch = Dropout(0.2)(fake_asin_branch)\n",
    "fake_asin_branch_op = Dense(16,activation='relu')(fake_asin_branch)\n",
    "\n",
    "\n",
    "concat = concatenate([review_branch_op, rating_branch_op, fake_asin_branch_op], name='Concatenate')\n",
    "\n",
    "\n",
    "final_op = Dense(8, activation='relu')(concat)\n",
    "final_output = Dense(1,activation='sigmoid')(final_op)\n",
    "\n",
    "model = Model(inputs=[review_branch_ip,rating_branch_ip,fake_asin_branch_ip], outputs=final_output,\n",
    "                  name='Final_output')"
   ]
  },
  {
   "cell_type": "code",
   "execution_count": 64,
   "metadata": {},
   "outputs": [
    {
     "name": "stdout",
     "output_type": "stream",
     "text": [
      "Collecting tf-nightly\n",
      "  Using cached tf_nightly-2.13.0.dev20230405-cp311-cp311-win_amd64.whl (2.1 kB)\n",
      "  Using cached tf_nightly-2.13.0.dev20230404-cp311-cp311-win_amd64.whl (2.1 kB)\n",
      "Collecting tf-nightly-intel==2.13.0-dev20230404\n",
      "  Using cached tf_nightly_intel-2.13.0.dev20230404-cp311-cp311-win_amd64.whl (178.1 MB)\n",
      "Requirement already satisfied: absl-py>=1.0.0 in c:\\users\\aravi\\appdata\\local\\programs\\python\\python311\\lib\\site-packages (from tf-nightly-intel==2.13.0-dev20230404->tf-nightly) (1.4.0)\n",
      "Requirement already satisfied: astunparse>=1.6.0 in c:\\users\\aravi\\appdata\\local\\programs\\python\\python311\\lib\\site-packages (from tf-nightly-intel==2.13.0-dev20230404->tf-nightly) (1.6.3)\n",
      "Requirement already satisfied: flatbuffers>=23.1.21 in c:\\users\\aravi\\appdata\\local\\programs\\python\\python311\\lib\\site-packages (from tf-nightly-intel==2.13.0-dev20230404->tf-nightly) (23.3.3)\n",
      "Requirement already satisfied: gast<=0.4.0,>=0.2.1 in c:\\users\\aravi\\appdata\\local\\programs\\python\\python311\\lib\\site-packages (from tf-nightly-intel==2.13.0-dev20230404->tf-nightly) (0.4.0)\n",
      "Requirement already satisfied: google-pasta>=0.1.1 in c:\\users\\aravi\\appdata\\local\\programs\\python\\python311\\lib\\site-packages (from tf-nightly-intel==2.13.0-dev20230404->tf-nightly) (0.2.0)\n",
      "Requirement already satisfied: h5py>=2.9.0 in c:\\users\\aravi\\appdata\\local\\programs\\python\\python311\\lib\\site-packages (from tf-nightly-intel==2.13.0-dev20230404->tf-nightly) (3.8.0)\n",
      "Requirement already satisfied: jax>=0.3.15 in c:\\users\\aravi\\appdata\\local\\programs\\python\\python311\\lib\\site-packages (from tf-nightly-intel==2.13.0-dev20230404->tf-nightly) (0.4.5)\n",
      "Requirement already satisfied: libclang>=13.0.0 in c:\\users\\aravi\\appdata\\local\\programs\\python\\python311\\lib\\site-packages (from tf-nightly-intel==2.13.0-dev20230404->tf-nightly) (15.0.6.1)\n",
      "Requirement already satisfied: numpy<1.24,>=1.22 in c:\\users\\aravi\\appdata\\local\\programs\\python\\python311\\lib\\site-packages (from tf-nightly-intel==2.13.0-dev20230404->tf-nightly) (1.23.5)\n",
      "Requirement already satisfied: opt-einsum>=2.3.2 in c:\\users\\aravi\\appdata\\local\\programs\\python\\python311\\lib\\site-packages (from tf-nightly-intel==2.13.0-dev20230404->tf-nightly) (3.3.0)\n",
      "Requirement already satisfied: packaging in c:\\users\\aravi\\appdata\\local\\programs\\python\\python311\\lib\\site-packages (from tf-nightly-intel==2.13.0-dev20230404->tf-nightly) (21.3)\n",
      "Requirement already satisfied: protobuf!=4.21.0,!=4.21.1,!=4.21.2,!=4.21.3,!=4.21.4,!=4.21.5,<5.0.0dev,>=3.20.3 in c:\\users\\aravi\\appdata\\local\\programs\\python\\python311\\lib\\site-packages (from tf-nightly-intel==2.13.0-dev20230404->tf-nightly) (3.20.3)\n",
      "Requirement already satisfied: setuptools in c:\\users\\aravi\\appdata\\local\\programs\\python\\python311\\lib\\site-packages (from tf-nightly-intel==2.13.0-dev20230404->tf-nightly) (65.5.0)\n",
      "Requirement already satisfied: six>=1.12.0 in c:\\users\\aravi\\appdata\\local\\programs\\python\\python311\\lib\\site-packages (from tf-nightly-intel==2.13.0-dev20230404->tf-nightly) (1.16.0)\n",
      "Requirement already satisfied: termcolor>=1.1.0 in c:\\users\\aravi\\appdata\\local\\programs\\python\\python311\\lib\\site-packages (from tf-nightly-intel==2.13.0-dev20230404->tf-nightly) (2.2.0)\n",
      "Requirement already satisfied: typing-extensions>=3.6.6 in c:\\users\\aravi\\appdata\\local\\programs\\python\\python311\\lib\\site-packages (from tf-nightly-intel==2.13.0-dev20230404->tf-nightly) (4.5.0)\n",
      "Requirement already satisfied: wrapt<1.15,>=1.11.0 in c:\\users\\aravi\\appdata\\local\\programs\\python\\python311\\lib\\site-packages (from tf-nightly-intel==2.13.0-dev20230404->tf-nightly) (1.14.1)\n",
      "Requirement already satisfied: grpcio<2.0,>=1.24.3 in c:\\users\\aravi\\appdata\\local\\programs\\python\\python311\\lib\\site-packages (from tf-nightly-intel==2.13.0-dev20230404->tf-nightly) (1.51.3)\n",
      "Requirement already satisfied: tb-nightly~=2.13.0.a in c:\\users\\aravi\\appdata\\local\\programs\\python\\python311\\lib\\site-packages (from tf-nightly-intel==2.13.0-dev20230404->tf-nightly) (2.13.0a20230405)\n",
      "Requirement already satisfied: tf-estimator-nightly~=2.13.0.dev in c:\\users\\aravi\\appdata\\local\\programs\\python\\python311\\lib\\site-packages (from tf-nightly-intel==2.13.0-dev20230404->tf-nightly) (2.13.0.dev2023040508)\n",
      "Requirement already satisfied: keras-nightly~=2.13.0.dev in c:\\users\\aravi\\appdata\\local\\programs\\python\\python311\\lib\\site-packages (from tf-nightly-intel==2.13.0-dev20230404->tf-nightly) (2.13.0.dev2023040507)\n",
      "Requirement already satisfied: tensorflow-io-gcs-filesystem>=0.23.1 in c:\\users\\aravi\\appdata\\local\\programs\\python\\python311\\lib\\site-packages (from tf-nightly-intel==2.13.0-dev20230404->tf-nightly) (0.31.0)\n",
      "Requirement already satisfied: wheel<1.0,>=0.23.0 in c:\\users\\aravi\\appdata\\local\\programs\\python\\python311\\lib\\site-packages (from astunparse>=1.6.0->tf-nightly-intel==2.13.0-dev20230404->tf-nightly) (0.38.4)\n",
      "Requirement already satisfied: scipy>=1.5 in c:\\users\\aravi\\appdata\\local\\programs\\python\\python311\\lib\\site-packages (from jax>=0.3.15->tf-nightly-intel==2.13.0-dev20230404->tf-nightly) (1.9.3)\n",
      "Requirement already satisfied: google-auth<3,>=1.6.3 in c:\\users\\aravi\\appdata\\local\\programs\\python\\python311\\lib\\site-packages (from tb-nightly~=2.13.0.a->tf-nightly-intel==2.13.0-dev20230404->tf-nightly) (2.16.2)\n",
      "Requirement already satisfied: google-auth-oauthlib<1.1,>=0.5 in c:\\users\\aravi\\appdata\\local\\programs\\python\\python311\\lib\\site-packages (from tb-nightly~=2.13.0.a->tf-nightly-intel==2.13.0-dev20230404->tf-nightly) (1.0.0)\n",
      "Requirement already satisfied: markdown>=2.6.8 in c:\\users\\aravi\\appdata\\local\\programs\\python\\python311\\lib\\site-packages (from tb-nightly~=2.13.0.a->tf-nightly-intel==2.13.0-dev20230404->tf-nightly) (3.3.7)\n",
      "Requirement already satisfied: requests<3,>=2.21.0 in c:\\users\\aravi\\appdata\\local\\programs\\python\\python311\\lib\\site-packages (from tb-nightly~=2.13.0.a->tf-nightly-intel==2.13.0-dev20230404->tf-nightly) (2.28.2)\n",
      "Requirement already satisfied: tensorboard-data-server<0.8.0,>=0.7.0 in c:\\users\\aravi\\appdata\\local\\programs\\python\\python311\\lib\\site-packages (from tb-nightly~=2.13.0.a->tf-nightly-intel==2.13.0-dev20230404->tf-nightly) (0.7.0)\n",
      "Requirement already satisfied: tensorboard-plugin-wit>=1.6.0 in c:\\users\\aravi\\appdata\\local\\programs\\python\\python311\\lib\\site-packages (from tb-nightly~=2.13.0.a->tf-nightly-intel==2.13.0-dev20230404->tf-nightly) (1.8.1)\n",
      "Requirement already satisfied: werkzeug>=1.0.1 in c:\\users\\aravi\\appdata\\local\\programs\\python\\python311\\lib\\site-packages (from tb-nightly~=2.13.0.a->tf-nightly-intel==2.13.0-dev20230404->tf-nightly) (2.2.3)\n",
      "Requirement already satisfied: pyparsing!=3.0.5,>=2.0.2 in c:\\users\\aravi\\appdata\\local\\programs\\python\\python311\\lib\\site-packages (from packaging->tf-nightly-intel==2.13.0-dev20230404->tf-nightly) (3.0.9)\n",
      "Requirement already satisfied: cachetools<6.0,>=2.0.0 in c:\\users\\aravi\\appdata\\local\\programs\\python\\python311\\lib\\site-packages (from google-auth<3,>=1.6.3->tb-nightly~=2.13.0.a->tf-nightly-intel==2.13.0-dev20230404->tf-nightly) (5.3.0)\n",
      "Requirement already satisfied: pyasn1-modules>=0.2.1 in c:\\users\\aravi\\appdata\\local\\programs\\python\\python311\\lib\\site-packages (from google-auth<3,>=1.6.3->tb-nightly~=2.13.0.a->tf-nightly-intel==2.13.0-dev20230404->tf-nightly) (0.2.8)\n",
      "Requirement already satisfied: rsa<5,>=3.1.4 in c:\\users\\aravi\\appdata\\local\\programs\\python\\python311\\lib\\site-packages (from google-auth<3,>=1.6.3->tb-nightly~=2.13.0.a->tf-nightly-intel==2.13.0-dev20230404->tf-nightly) (4.7.2)\n",
      "Requirement already satisfied: requests-oauthlib>=0.7.0 in c:\\users\\aravi\\appdata\\local\\programs\\python\\python311\\lib\\site-packages (from google-auth-oauthlib<1.1,>=0.5->tb-nightly~=2.13.0.a->tf-nightly-intel==2.13.0-dev20230404->tf-nightly) (1.3.1)\n",
      "Requirement already satisfied: charset-normalizer<4,>=2 in c:\\users\\aravi\\appdata\\local\\programs\\python\\python311\\lib\\site-packages (from requests<3,>=2.21.0->tb-nightly~=2.13.0.a->tf-nightly-intel==2.13.0-dev20230404->tf-nightly) (3.0.1)\n",
      "Requirement already satisfied: idna<4,>=2.5 in c:\\users\\aravi\\appdata\\local\\programs\\python\\python311\\lib\\site-packages (from requests<3,>=2.21.0->tb-nightly~=2.13.0.a->tf-nightly-intel==2.13.0-dev20230404->tf-nightly) (3.4)\n",
      "Requirement already satisfied: urllib3<1.27,>=1.21.1 in c:\\users\\aravi\\appdata\\local\\programs\\python\\python311\\lib\\site-packages (from requests<3,>=2.21.0->tb-nightly~=2.13.0.a->tf-nightly-intel==2.13.0-dev20230404->tf-nightly) (1.26.14)\n",
      "Requirement already satisfied: certifi>=2017.4.17 in c:\\users\\aravi\\appdata\\local\\programs\\python\\python311\\lib\\site-packages (from requests<3,>=2.21.0->tb-nightly~=2.13.0.a->tf-nightly-intel==2.13.0-dev20230404->tf-nightly) (2022.12.7)\n",
      "Requirement already satisfied: MarkupSafe>=2.1.1 in c:\\users\\aravi\\appdata\\local\\programs\\python\\python311\\lib\\site-packages (from werkzeug>=1.0.1->tb-nightly~=2.13.0.a->tf-nightly-intel==2.13.0-dev20230404->tf-nightly) (2.1.1)\n",
      "Requirement already satisfied: pyasn1<0.5.0,>=0.4.6 in c:\\users\\aravi\\appdata\\local\\programs\\python\\python311\\lib\\site-packages (from pyasn1-modules>=0.2.1->google-auth<3,>=1.6.3->tb-nightly~=2.13.0.a->tf-nightly-intel==2.13.0-dev20230404->tf-nightly) (0.4.8)\n",
      "Requirement already satisfied: oauthlib>=3.0.0 in c:\\users\\aravi\\appdata\\local\\programs\\python\\python311\\lib\\site-packages (from requests-oauthlib>=0.7.0->google-auth-oauthlib<1.1,>=0.5->tb-nightly~=2.13.0.a->tf-nightly-intel==2.13.0-dev20230404->tf-nightly) (3.2.2)\n",
      "Installing collected packages: tf-nightly-intel, tf-nightly\n"
     ]
    },
    {
     "name": "stderr",
     "output_type": "stream",
     "text": [
      "ERROR: Could not install packages due to an OSError: [WinError 5] Access is denied: 'C:\\\\Users\\\\aravi\\\\AppData\\\\Local\\\\Programs\\\\Python\\\\Python311\\\\Lib\\\\site-packages\\\\tensorflow\\\\compiler\\\\tf2tensorrt\\\\_pywrap_py_utils.pyd'\n",
      "Consider using the `--user` option or check the permissions.\n",
      "\n"
     ]
    }
   ],
   "source": [
    "! pip install tf-nightly"
   ]
  },
  {
   "cell_type": "code",
   "execution_count": 72,
   "metadata": {},
   "outputs": [],
   "source": [
    "model.compile(optimizer=Adam(clipvalue=0.5) , \n",
    "              loss='binary_crossentropy', \n",
    "              metrics=['Precision', 'Recall'])"
   ]
  },
  {
   "cell_type": "code",
   "execution_count": 73,
   "metadata": {},
   "outputs": [
    {
     "name": "stdout",
     "output_type": "stream",
     "text": [
      "Model: \"Final_output\"\n",
      "__________________________________________________________________________________________________\n",
      " Layer (type)                   Output Shape         Param #     Connected to                     \n",
      "==================================================================================================\n",
      " Review_input (InputLayer)      [(None, 100)]        0           []                               \n",
      "                                                                                                  \n",
      " embedding (Embedding)          (None, 100, 100)     2479600     ['Review_input[0][0]']           \n",
      "                                                                                                  \n",
      " dropout_3 (Dropout)            (None, 100, 100)     0           ['embedding[1][0]']              \n",
      "                                                                                                  \n",
      " Rating_input (InputLayer)      [(None, 1)]          0           []                               \n",
      "                                                                                                  \n",
      " fake_asin_input (InputLayer)   [(None, 1)]          0           []                               \n",
      "                                                                                                  \n",
      " bidirectional_1 (Bidirectional  (None, 128)         84480       ['dropout_3[0][0]']              \n",
      " )                                                                                                \n",
      "                                                                                                  \n",
      " dense_10 (Dense)               (None, 8)            16          ['Rating_input[0][0]']           \n",
      "                                                                                                  \n",
      " dense_12 (Dense)               (None, 8)            16          ['fake_asin_input[0][0]']        \n",
      "                                                                                                  \n",
      " dense_8 (Dense)                (None, 64)           8256        ['bidirectional_1[0][0]']        \n",
      "                                                                                                  \n",
      " dropout_4 (Dropout)            (None, 8)            0           ['dense_10[0][0]']               \n",
      "                                                                                                  \n",
      " dropout_5 (Dropout)            (None, 8)            0           ['dense_12[0][0]']               \n",
      "                                                                                                  \n",
      " dense_9 (Dense)                (None, 16)           1040        ['dense_8[0][0]']                \n",
      "                                                                                                  \n",
      " dense_11 (Dense)               (None, 16)           144         ['dropout_4[0][0]']              \n",
      "                                                                                                  \n",
      " dense_13 (Dense)               (None, 16)           144         ['dropout_5[0][0]']              \n",
      "                                                                                                  \n",
      " Concatenate (Concatenate)      (None, 48)           0           ['dense_9[0][0]',                \n",
      "                                                                  'dense_11[0][0]',               \n",
      "                                                                  'dense_13[0][0]']               \n",
      "                                                                                                  \n",
      " dense_14 (Dense)               (None, 8)            392         ['Concatenate[0][0]']            \n",
      "                                                                                                  \n",
      " dense_15 (Dense)               (None, 1)            9           ['dense_14[0][0]']               \n",
      "                                                                                                  \n",
      "==================================================================================================\n",
      "Total params: 2,574,097\n",
      "Trainable params: 94,497\n",
      "Non-trainable params: 2,479,600\n",
      "__________________________________________________________________________________________________\n"
     ]
    }
   ],
   "source": [
    "model.summary()"
   ]
  },
  {
   "cell_type": "code",
   "execution_count": 74,
   "metadata": {},
   "outputs": [
    {
     "name": "stdout",
     "output_type": "stream",
     "text": [
      "Epoch 1/10\n",
      "692/692 [==============================] - 29s 36ms/step - loss: 0.6194 - precision: 0.7651 - recall: 0.5160 - val_loss: 0.6015 - val_precision: 0.7894 - val_recall: 0.5392\n",
      "Epoch 2/10\n",
      "692/692 [==============================] - 23s 34ms/step - loss: 0.6032 - precision: 0.7934 - recall: 0.5379 - val_loss: 0.6012 - val_precision: 0.7894 - val_recall: 0.5392\n",
      "Epoch 3/10\n",
      "692/692 [==============================] - 24s 34ms/step - loss: 0.6016 - precision: 0.7934 - recall: 0.5383 - val_loss: 0.5975 - val_precision: 0.7894 - val_recall: 0.5392\n",
      "Epoch 4/10\n",
      "692/692 [==============================] - 24s 34ms/step - loss: 0.5973 - precision: 0.7918 - recall: 0.5400 - val_loss: 0.5973 - val_precision: 0.7894 - val_recall: 0.5392\n",
      "Epoch 5/10\n",
      "692/692 [==============================] - 26s 37ms/step - loss: 0.5953 - precision: 0.7888 - recall: 0.5421 - val_loss: 0.5964 - val_precision: 0.7883 - val_recall: 0.5435\n",
      "Epoch 6/10\n",
      "692/692 [==============================] - 24s 35ms/step - loss: 0.5917 - precision: 0.7831 - recall: 0.5527 - val_loss: 0.6023 - val_precision: 0.7273 - val_recall: 0.6076\n",
      "Epoch 7/10\n",
      "692/692 [==============================] - 24s 34ms/step - loss: 0.5913 - precision: 0.7782 - recall: 0.5651 - val_loss: 0.5976 - val_precision: 0.7526 - val_recall: 0.5783\n",
      "Epoch 8/10\n",
      "692/692 [==============================] - 24s 34ms/step - loss: 0.5867 - precision: 0.7638 - recall: 0.5838 - val_loss: 0.5964 - val_precision: 0.7881 - val_recall: 0.5414\n"
     ]
    }
   ],
   "source": [
    "stop_early_model = tf.keras.callbacks.EarlyStopping(monitor='val_loss', patience=3)\n",
    "history = model.fit([X_train_padded,train_rating,train_asin], train_label, batch_size=32,epochs=10, validation_data=([X_val_padded,valid_rating,valid_asin], valid_label),callbacks=[stop_early_model])"
   ]
  },
  {
   "cell_type": "code",
   "execution_count": 77,
   "metadata": {},
   "outputs": [
    {
     "data": {
      "text/plain": [
       "{'loss': <tf.Tensor: shape=(), dtype=float32, numpy=0.59637314>,\n",
       " 'precision': <tf.Tensor: shape=(), dtype=float32, numpy=0.78814083>,\n",
       " 'recall': <tf.Tensor: shape=(), dtype=float32, numpy=0.54136616>}"
      ]
     },
     "execution_count": 77,
     "metadata": {},
     "output_type": "execute_result"
    }
   ],
   "source": [
    "model.get_metrics_result()"
   ]
  },
  {
   "cell_type": "code",
   "execution_count": 76,
   "metadata": {},
   "outputs": [],
   "source": [
    "result = model.get_metrics_result()"
   ]
  },
  {
   "cell_type": "code",
   "execution_count": 84,
   "metadata": {},
   "outputs": [
    {
     "name": "stdout",
     "output_type": "stream",
     "text": [
      "F1 Score is  0.6418511201383663\n"
     ]
    }
   ],
   "source": [
    "precision = result['precision'].numpy()\n",
    "recall = result['recall'].numpy()\n",
    "f1_score = 2 * precision * recall / (precision + recall)\n",
    "print(\"F1 Score is \", f1_score)"
   ]
  },
  {
   "cell_type": "code",
   "execution_count": 108,
   "metadata": {},
   "outputs": [],
   "source": [
    "df_test = pd.read_csv(\"test_reviews.csv\")\n",
    "df_raw = df_test.copy()"
   ]
  },
  {
   "cell_type": "code",
   "execution_count": 86,
   "metadata": {},
   "outputs": [
    {
     "data": {
      "text/html": [
       "<div>\n",
       "<style scoped>\n",
       "    .dataframe tbody tr th:only-of-type {\n",
       "        vertical-align: middle;\n",
       "    }\n",
       "\n",
       "    .dataframe tbody tr th {\n",
       "        vertical-align: top;\n",
       "    }\n",
       "\n",
       "    .dataframe thead th {\n",
       "        text-align: right;\n",
       "    }\n",
       "</style>\n",
       "<table border=\"1\" class=\"dataframe\">\n",
       "  <thead>\n",
       "    <tr style=\"text-align: right;\">\n",
       "      <th></th>\n",
       "      <th>review_title</th>\n",
       "      <th>review_body</th>\n",
       "      <th>review_date</th>\n",
       "      <th>review_rating</th>\n",
       "      <th>number_of_photos</th>\n",
       "      <th>helpful_vote</th>\n",
       "      <th>reviewer_ID</th>\n",
       "      <th>fake_asin</th>\n",
       "      <th>product_ID</th>\n",
       "      <th>review_ID</th>\n",
       "    </tr>\n",
       "  </thead>\n",
       "  <tbody>\n",
       "    <tr>\n",
       "      <th>0</th>\n",
       "      <td>Fit of phone 7+</td>\n",
       "      <td>I have the iPhone 7+ and it says it fits this....</td>\n",
       "      <td>2019-09-04</td>\n",
       "      <td>4</td>\n",
       "      <td>1</td>\n",
       "      <td>0</td>\n",
       "      <td>440934</td>\n",
       "      <td>0</td>\n",
       "      <td>281</td>\n",
       "      <td>427196</td>\n",
       "    </tr>\n",
       "    <tr>\n",
       "      <th>1</th>\n",
       "      <td>Sturdy and simply</td>\n",
       "      <td>This product comes assembled and works simply ...</td>\n",
       "      <td>2020-08-22</td>\n",
       "      <td>5</td>\n",
       "      <td>0</td>\n",
       "      <td>0</td>\n",
       "      <td>1044859</td>\n",
       "      <td>0</td>\n",
       "      <td>17</td>\n",
       "      <td>205467</td>\n",
       "    </tr>\n",
       "    <tr>\n",
       "      <th>2</th>\n",
       "      <td>Great product</td>\n",
       "      <td>I really like this product because 1st my kids...</td>\n",
       "      <td>2020-05-29</td>\n",
       "      <td>5</td>\n",
       "      <td>0</td>\n",
       "      <td>0</td>\n",
       "      <td>377805</td>\n",
       "      <td>1</td>\n",
       "      <td>342</td>\n",
       "      <td>202189</td>\n",
       "    </tr>\n",
       "    <tr>\n",
       "      <th>3</th>\n",
       "      <td>Item got good reviews but ...</td>\n",
       "      <td>I couldn't get the product to stay in my ear. ...</td>\n",
       "      <td>2019-09-07</td>\n",
       "      <td>1</td>\n",
       "      <td>0</td>\n",
       "      <td>2</td>\n",
       "      <td>747580</td>\n",
       "      <td>0</td>\n",
       "      <td>212</td>\n",
       "      <td>56726</td>\n",
       "    </tr>\n",
       "    <tr>\n",
       "      <th>4</th>\n",
       "      <td>Great Sheet Protectors - Love the Easy Loading</td>\n",
       "      <td>These sheet protectors were the perfect weight...</td>\n",
       "      <td>2012-10-05</td>\n",
       "      <td>5</td>\n",
       "      <td>0</td>\n",
       "      <td>0</td>\n",
       "      <td>1170571</td>\n",
       "      <td>0</td>\n",
       "      <td>10</td>\n",
       "      <td>409558</td>\n",
       "    </tr>\n",
       "  </tbody>\n",
       "</table>\n",
       "</div>"
      ],
      "text/plain": [
       "                                     review_title  \\\n",
       "0                                 Fit of phone 7+   \n",
       "1                               Sturdy and simply   \n",
       "2                                   Great product   \n",
       "3                   Item got good reviews but ...   \n",
       "4  Great Sheet Protectors - Love the Easy Loading   \n",
       "\n",
       "                                         review_body review_date  \\\n",
       "0  I have the iPhone 7+ and it says it fits this....  2019-09-04   \n",
       "1  This product comes assembled and works simply ...  2020-08-22   \n",
       "2  I really like this product because 1st my kids...  2020-05-29   \n",
       "3  I couldn't get the product to stay in my ear. ...  2019-09-07   \n",
       "4  These sheet protectors were the perfect weight...  2012-10-05   \n",
       "\n",
       "   review_rating  number_of_photos  helpful_vote  reviewer_ID  fake_asin  \\\n",
       "0              4                 1             0       440934          0   \n",
       "1              5                 0             0      1044859          0   \n",
       "2              5                 0             0       377805          1   \n",
       "3              1                 0             2       747580          0   \n",
       "4              5                 0             0      1170571          0   \n",
       "\n",
       "   product_ID  review_ID  \n",
       "0         281     427196  \n",
       "1          17     205467  \n",
       "2         342     202189  \n",
       "3         212      56726  \n",
       "4          10     409558  "
      ]
     },
     "execution_count": 86,
     "metadata": {},
     "output_type": "execute_result"
    }
   ],
   "source": [
    "df_test.head()"
   ]
  },
  {
   "cell_type": "code",
   "execution_count": 87,
   "metadata": {},
   "outputs": [
    {
     "data": {
      "text/html": [
       "<div>\n",
       "<style scoped>\n",
       "    .dataframe tbody tr th:only-of-type {\n",
       "        vertical-align: middle;\n",
       "    }\n",
       "\n",
       "    .dataframe tbody tr th {\n",
       "        vertical-align: top;\n",
       "    }\n",
       "\n",
       "    .dataframe thead th {\n",
       "        text-align: right;\n",
       "    }\n",
       "</style>\n",
       "<table border=\"1\" class=\"dataframe\">\n",
       "  <thead>\n",
       "    <tr style=\"text-align: right;\">\n",
       "      <th></th>\n",
       "      <th>Total</th>\n",
       "      <th>Percent</th>\n",
       "    </tr>\n",
       "  </thead>\n",
       "  <tbody>\n",
       "    <tr>\n",
       "      <th>review_title</th>\n",
       "      <td>33</td>\n",
       "      <td>0.075619</td>\n",
       "    </tr>\n",
       "    <tr>\n",
       "      <th>review_body</th>\n",
       "      <td>3</td>\n",
       "      <td>0.006874</td>\n",
       "    </tr>\n",
       "    <tr>\n",
       "      <th>review_date</th>\n",
       "      <td>0</td>\n",
       "      <td>0.000000</td>\n",
       "    </tr>\n",
       "    <tr>\n",
       "      <th>review_rating</th>\n",
       "      <td>0</td>\n",
       "      <td>0.000000</td>\n",
       "    </tr>\n",
       "    <tr>\n",
       "      <th>number_of_photos</th>\n",
       "      <td>0</td>\n",
       "      <td>0.000000</td>\n",
       "    </tr>\n",
       "    <tr>\n",
       "      <th>helpful_vote</th>\n",
       "      <td>0</td>\n",
       "      <td>0.000000</td>\n",
       "    </tr>\n",
       "    <tr>\n",
       "      <th>reviewer_ID</th>\n",
       "      <td>0</td>\n",
       "      <td>0.000000</td>\n",
       "    </tr>\n",
       "    <tr>\n",
       "      <th>fake_asin</th>\n",
       "      <td>0</td>\n",
       "      <td>0.000000</td>\n",
       "    </tr>\n",
       "    <tr>\n",
       "      <th>product_ID</th>\n",
       "      <td>0</td>\n",
       "      <td>0.000000</td>\n",
       "    </tr>\n",
       "    <tr>\n",
       "      <th>review_ID</th>\n",
       "      <td>0</td>\n",
       "      <td>0.000000</td>\n",
       "    </tr>\n",
       "  </tbody>\n",
       "</table>\n",
       "</div>"
      ],
      "text/plain": [
       "                  Total   Percent\n",
       "review_title         33  0.075619\n",
       "review_body           3  0.006874\n",
       "review_date           0  0.000000\n",
       "review_rating         0  0.000000\n",
       "number_of_photos      0  0.000000\n",
       "helpful_vote          0  0.000000\n",
       "reviewer_ID           0  0.000000\n",
       "fake_asin             0  0.000000\n",
       "product_ID            0  0.000000\n",
       "review_ID             0  0.000000"
      ]
     },
     "execution_count": 87,
     "metadata": {},
     "output_type": "execute_result"
    }
   ],
   "source": [
    "total = df_test.isnull().sum().sort_values(ascending=False)\n",
    "percent = ((df_test.isnull().sum()/df_test.isnull().count())*100).sort_values(ascending=False)\n",
    "missing_data = pd.concat([total, percent], axis=1, keys=['Total', 'Percent'])\n",
    "missing_data"
   ]
  },
  {
   "cell_type": "code",
   "execution_count": 88,
   "metadata": {},
   "outputs": [],
   "source": [
    "df_test['review_body'].fillna(\"empty review\", inplace = True)"
   ]
  },
  {
   "cell_type": "code",
   "execution_count": 89,
   "metadata": {},
   "outputs": [
    {
     "data": {
      "text/plain": [
       "(43640, 10)"
      ]
     },
     "execution_count": 89,
     "metadata": {},
     "output_type": "execute_result"
    }
   ],
   "source": [
    "df_test.shape"
   ]
  },
  {
   "cell_type": "code",
   "execution_count": 91,
   "metadata": {},
   "outputs": [],
   "source": [
    "features = [\"review_body\", \"review_rating\", \"fake_asin\"]\n",
    "df_test= df_test[features]"
   ]
  },
  {
   "cell_type": "code",
   "execution_count": 92,
   "metadata": {},
   "outputs": [
    {
     "data": {
      "text/html": [
       "<div>\n",
       "<style scoped>\n",
       "    .dataframe tbody tr th:only-of-type {\n",
       "        vertical-align: middle;\n",
       "    }\n",
       "\n",
       "    .dataframe tbody tr th {\n",
       "        vertical-align: top;\n",
       "    }\n",
       "\n",
       "    .dataframe thead th {\n",
       "        text-align: right;\n",
       "    }\n",
       "</style>\n",
       "<table border=\"1\" class=\"dataframe\">\n",
       "  <thead>\n",
       "    <tr style=\"text-align: right;\">\n",
       "      <th></th>\n",
       "      <th>review_body</th>\n",
       "      <th>review_rating</th>\n",
       "      <th>fake_asin</th>\n",
       "    </tr>\n",
       "  </thead>\n",
       "  <tbody>\n",
       "    <tr>\n",
       "      <th>0</th>\n",
       "      <td>I have the iPhone 7+ and it says it fits this....</td>\n",
       "      <td>4</td>\n",
       "      <td>0</td>\n",
       "    </tr>\n",
       "    <tr>\n",
       "      <th>1</th>\n",
       "      <td>This product comes assembled and works simply ...</td>\n",
       "      <td>5</td>\n",
       "      <td>0</td>\n",
       "    </tr>\n",
       "    <tr>\n",
       "      <th>2</th>\n",
       "      <td>I really like this product because 1st my kids...</td>\n",
       "      <td>5</td>\n",
       "      <td>1</td>\n",
       "    </tr>\n",
       "    <tr>\n",
       "      <th>3</th>\n",
       "      <td>I couldn't get the product to stay in my ear. ...</td>\n",
       "      <td>1</td>\n",
       "      <td>0</td>\n",
       "    </tr>\n",
       "    <tr>\n",
       "      <th>4</th>\n",
       "      <td>These sheet protectors were the perfect weight...</td>\n",
       "      <td>5</td>\n",
       "      <td>0</td>\n",
       "    </tr>\n",
       "  </tbody>\n",
       "</table>\n",
       "</div>"
      ],
      "text/plain": [
       "                                         review_body  review_rating  fake_asin\n",
       "0  I have the iPhone 7+ and it says it fits this....              4          0\n",
       "1  This product comes assembled and works simply ...              5          0\n",
       "2  I really like this product because 1st my kids...              5          1\n",
       "3  I couldn't get the product to stay in my ear. ...              1          0\n",
       "4  These sheet protectors were the perfect weight...              5          0"
      ]
     },
     "execution_count": 92,
     "metadata": {},
     "output_type": "execute_result"
    }
   ],
   "source": [
    "df_test.head()"
   ]
  },
  {
   "cell_type": "code",
   "execution_count": 93,
   "metadata": {},
   "outputs": [
    {
     "name": "stderr",
     "output_type": "stream",
     "text": [
      "C:\\Users\\aravi\\AppData\\Local\\Temp\\ipykernel_17328\\721627641.py:1: SettingWithCopyWarning: \n",
      "A value is trying to be set on a copy of a slice from a DataFrame.\n",
      "Try using .loc[row_indexer,col_indexer] = value instead\n",
      "\n",
      "See the caveats in the documentation: https://pandas.pydata.org/pandas-docs/stable/user_guide/indexing.html#returning-a-view-versus-a-copy\n",
      "  df_test['review_body'] = df_test['review_body'].apply(lambda x: remove_punctuation(x))\n"
     ]
    }
   ],
   "source": [
    "df_test['review_body'] = df_test['review_body'].apply(lambda x: remove_punctuation(x))"
   ]
  },
  {
   "cell_type": "code",
   "execution_count": 94,
   "metadata": {},
   "outputs": [
    {
     "data": {
      "text/html": [
       "<div>\n",
       "<style scoped>\n",
       "    .dataframe tbody tr th:only-of-type {\n",
       "        vertical-align: middle;\n",
       "    }\n",
       "\n",
       "    .dataframe tbody tr th {\n",
       "        vertical-align: top;\n",
       "    }\n",
       "\n",
       "    .dataframe thead th {\n",
       "        text-align: right;\n",
       "    }\n",
       "</style>\n",
       "<table border=\"1\" class=\"dataframe\">\n",
       "  <thead>\n",
       "    <tr style=\"text-align: right;\">\n",
       "      <th></th>\n",
       "      <th>review_body</th>\n",
       "      <th>review_rating</th>\n",
       "      <th>fake_asin</th>\n",
       "    </tr>\n",
       "  </thead>\n",
       "  <tbody>\n",
       "    <tr>\n",
       "      <th>0</th>\n",
       "      <td>i have the iphone 7 and it says it fits this i...</td>\n",
       "      <td>4</td>\n",
       "      <td>0</td>\n",
       "    </tr>\n",
       "    <tr>\n",
       "      <th>1</th>\n",
       "      <td>this product comes assembled and works simply ...</td>\n",
       "      <td>5</td>\n",
       "      <td>0</td>\n",
       "    </tr>\n",
       "    <tr>\n",
       "      <th>2</th>\n",
       "      <td>i really like this product because 1st my kids...</td>\n",
       "      <td>5</td>\n",
       "      <td>1</td>\n",
       "    </tr>\n",
       "    <tr>\n",
       "      <th>3</th>\n",
       "      <td>i couldnt get the product to stay in my ear  t...</td>\n",
       "      <td>1</td>\n",
       "      <td>0</td>\n",
       "    </tr>\n",
       "    <tr>\n",
       "      <th>4</th>\n",
       "      <td>these sheet protectors were the perfect weight...</td>\n",
       "      <td>5</td>\n",
       "      <td>0</td>\n",
       "    </tr>\n",
       "  </tbody>\n",
       "</table>\n",
       "</div>"
      ],
      "text/plain": [
       "                                         review_body  review_rating  fake_asin\n",
       "0  i have the iphone 7 and it says it fits this i...              4          0\n",
       "1  this product comes assembled and works simply ...              5          0\n",
       "2  i really like this product because 1st my kids...              5          1\n",
       "3  i couldnt get the product to stay in my ear  t...              1          0\n",
       "4  these sheet protectors were the perfect weight...              5          0"
      ]
     },
     "execution_count": 94,
     "metadata": {},
     "output_type": "execute_result"
    }
   ],
   "source": [
    "df_test.head()"
   ]
  },
  {
   "cell_type": "code",
   "execution_count": 95,
   "metadata": {},
   "outputs": [],
   "source": [
    "X_test = df_test.copy()"
   ]
  },
  {
   "cell_type": "code",
   "execution_count": 96,
   "metadata": {},
   "outputs": [],
   "source": [
    "unseen_rating = X_test.pop('review_rating')\n",
    "unseen_asin = X_test.pop('fake_asin')"
   ]
  },
  {
   "cell_type": "code",
   "execution_count": 97,
   "metadata": {},
   "outputs": [],
   "source": [
    "X_test_sequences = tokenizer.texts_to_sequences(X_test.review_body)\n",
    "X_test_padded = pad_sequences(X_test_sequences,maxlen=max_length, padding=padding_type, \n",
    "                       truncating=truncation_type)"
   ]
  },
  {
   "cell_type": "code",
   "execution_count": 99,
   "metadata": {},
   "outputs": [
    {
     "data": {
      "text/plain": [
       "array([[11160,   201,    43, ...,     0,     0,     0],\n",
       "       [   38,    59,     3, ...,     0,     0,     0],\n",
       "       [   20,     7,   152, ...,     0,     0,     0],\n",
       "       ...,\n",
       "       [   11,   257,    69, ...,     0,     0,     0],\n",
       "       [    3,    33,     2, ...,     0,     0,     0],\n",
       "       [   83,   132,    28, ...,     0,     0,     0]])"
      ]
     },
     "execution_count": 99,
     "metadata": {},
     "output_type": "execute_result"
    }
   ],
   "source": [
    "X_train_padded[0:12]"
   ]
  },
  {
   "cell_type": "code",
   "execution_count": 100,
   "metadata": {},
   "outputs": [
    {
     "data": {
      "text/plain": [
       "array([[   3,   17,    2, ...,    0,    0,    0],\n",
       "       [   9,   30,  214, ...,    0,    0,    0],\n",
       "       [   3,   54,   33, ...,    0,    0,    0],\n",
       "       ...,\n",
       "       [   2,  125,   38, ...,    0,    0,    0],\n",
       "       [  19,  239,   11, ...,    0,    0,    0],\n",
       "       [   3,   94, 2100, ...,    0,    0,    0]])"
      ]
     },
     "execution_count": 100,
     "metadata": {},
     "output_type": "execute_result"
    }
   ],
   "source": [
    "X_test_padded[0:12]"
   ]
  },
  {
   "cell_type": "code",
   "execution_count": 103,
   "metadata": {},
   "outputs": [
    {
     "name": "stdout",
     "output_type": "stream",
     "text": [
      "1364/1364 [==============================] - 24s 16ms/step\n"
     ]
    }
   ],
   "source": [
    "results = model.predict([X_test_padded, unseen_rating, unseen_asin])"
   ]
  },
  {
   "cell_type": "code",
   "execution_count": 110,
   "metadata": {},
   "outputs": [],
   "source": [
    "df_results = df_raw.copy()"
   ]
  },
  {
   "cell_type": "code",
   "execution_count": 111,
   "metadata": {},
   "outputs": [],
   "source": [
    "df_results = df_results[['review_ID']]"
   ]
  },
  {
   "cell_type": "code",
   "execution_count": 113,
   "metadata": {},
   "outputs": [
    {
     "data": {
      "text/html": [
       "<div>\n",
       "<style scoped>\n",
       "    .dataframe tbody tr th:only-of-type {\n",
       "        vertical-align: middle;\n",
       "    }\n",
       "\n",
       "    .dataframe tbody tr th {\n",
       "        vertical-align: top;\n",
       "    }\n",
       "\n",
       "    .dataframe thead th {\n",
       "        text-align: right;\n",
       "    }\n",
       "</style>\n",
       "<table border=\"1\" class=\"dataframe\">\n",
       "  <thead>\n",
       "    <tr style=\"text-align: right;\">\n",
       "      <th></th>\n",
       "      <th>review_ID</th>\n",
       "      <th>fake_review</th>\n",
       "    </tr>\n",
       "  </thead>\n",
       "  <tbody>\n",
       "    <tr>\n",
       "      <th>0</th>\n",
       "      <td>427196</td>\n",
       "      <td>0.351940</td>\n",
       "    </tr>\n",
       "    <tr>\n",
       "      <th>1</th>\n",
       "      <td>205467</td>\n",
       "      <td>0.330039</td>\n",
       "    </tr>\n",
       "    <tr>\n",
       "      <th>2</th>\n",
       "      <td>202189</td>\n",
       "      <td>0.742104</td>\n",
       "    </tr>\n",
       "    <tr>\n",
       "      <th>3</th>\n",
       "      <td>56726</td>\n",
       "      <td>0.295513</td>\n",
       "    </tr>\n",
       "    <tr>\n",
       "      <th>4</th>\n",
       "      <td>409558</td>\n",
       "      <td>0.219790</td>\n",
       "    </tr>\n",
       "  </tbody>\n",
       "</table>\n",
       "</div>"
      ],
      "text/plain": [
       "   review_ID  fake_review\n",
       "0     427196     0.351940\n",
       "1     205467     0.330039\n",
       "2     202189     0.742104\n",
       "3      56726     0.295513\n",
       "4     409558     0.219790"
      ]
     },
     "execution_count": 113,
     "metadata": {},
     "output_type": "execute_result"
    }
   ],
   "source": [
    "df_results['fake_review'] = results\n",
    "df_results.head()"
   ]
  },
  {
   "cell_type": "code",
   "execution_count": 116,
   "metadata": {},
   "outputs": [],
   "source": [
    "df_results['fake_review'] = df_results['fake_review'].apply(lambda x: 1 if(x>=0.5) else 0)"
   ]
  },
  {
   "cell_type": "code",
   "execution_count": 117,
   "metadata": {},
   "outputs": [
    {
     "data": {
      "text/html": [
       "<div>\n",
       "<style scoped>\n",
       "    .dataframe tbody tr th:only-of-type {\n",
       "        vertical-align: middle;\n",
       "    }\n",
       "\n",
       "    .dataframe tbody tr th {\n",
       "        vertical-align: top;\n",
       "    }\n",
       "\n",
       "    .dataframe thead th {\n",
       "        text-align: right;\n",
       "    }\n",
       "</style>\n",
       "<table border=\"1\" class=\"dataframe\">\n",
       "  <thead>\n",
       "    <tr style=\"text-align: right;\">\n",
       "      <th></th>\n",
       "      <th>review_ID</th>\n",
       "      <th>fake_review</th>\n",
       "    </tr>\n",
       "  </thead>\n",
       "  <tbody>\n",
       "    <tr>\n",
       "      <th>0</th>\n",
       "      <td>427196</td>\n",
       "      <td>0</td>\n",
       "    </tr>\n",
       "    <tr>\n",
       "      <th>1</th>\n",
       "      <td>205467</td>\n",
       "      <td>0</td>\n",
       "    </tr>\n",
       "    <tr>\n",
       "      <th>2</th>\n",
       "      <td>202189</td>\n",
       "      <td>1</td>\n",
       "    </tr>\n",
       "    <tr>\n",
       "      <th>3</th>\n",
       "      <td>56726</td>\n",
       "      <td>0</td>\n",
       "    </tr>\n",
       "    <tr>\n",
       "      <th>4</th>\n",
       "      <td>409558</td>\n",
       "      <td>0</td>\n",
       "    </tr>\n",
       "  </tbody>\n",
       "</table>\n",
       "</div>"
      ],
      "text/plain": [
       "   review_ID  fake_review\n",
       "0     427196            0\n",
       "1     205467            0\n",
       "2     202189            1\n",
       "3      56726            0\n",
       "4     409558            0"
      ]
     },
     "execution_count": 117,
     "metadata": {},
     "output_type": "execute_result"
    }
   ],
   "source": [
    "df_results.head()"
   ]
  },
  {
   "cell_type": "code",
   "execution_count": 119,
   "metadata": {},
   "outputs": [],
   "source": [
    "df_results.to_csv(\"Predictions_BiLSTM.csv\")"
   ]
  },
  {
   "cell_type": "code",
   "execution_count": null,
   "metadata": {},
   "outputs": [],
   "source": []
  }
 ],
 "metadata": {
  "kernelspec": {
   "display_name": "Python 3",
   "language": "python",
   "name": "python3"
  },
  "language_info": {
   "codemirror_mode": {
    "name": "ipython",
    "version": 3
   },
   "file_extension": ".py",
   "mimetype": "text/x-python",
   "name": "python",
   "nbconvert_exporter": "python",
   "pygments_lexer": "ipython3",
   "version": "3.11.0"
  },
  "orig_nbformat": 4
 },
 "nbformat": 4,
 "nbformat_minor": 2
}
