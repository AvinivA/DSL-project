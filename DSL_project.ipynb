{
  "nbformat": 4,
  "nbformat_minor": 0,
  "metadata": {
    "colab": {
      "provenance": [],
      "authorship_tag": "ABX9TyP493bZJkSQsEz/dlEshUUV",
      "include_colab_link": true
    },
    "kernelspec": {
      "name": "python3",
      "display_name": "Python 3"
    },
    "language_info": {
      "name": "python"
    },
    "accelerator": "GPU",
    "gpuClass": "standard"
  },
  "cells": [
    {
      "cell_type": "markdown",
      "metadata": {
        "id": "view-in-github",
        "colab_type": "text"
      },
      "source": [
        "<a href=\"https://colab.research.google.com/github/AvinivA/DSL-project/blob/main/DSL_project.ipynb\" target=\"_parent\"><img src=\"https://colab.research.google.com/assets/colab-badge.svg\" alt=\"Open In Colab\"/></a>"
      ]
    },
    {
      "cell_type": "code",
      "source": [
        "!pip install contractions\n",
        "!pip install wget"
      ],
      "metadata": {
        "colab": {
          "base_uri": "https://localhost:8080/"
        },
        "id": "2UKFlyqBKrzt",
        "outputId": "e8875f0c-6fff-421a-e8a4-36f0cf83f1d8"
      },
      "execution_count": null,
      "outputs": [
        {
          "output_type": "stream",
          "name": "stdout",
          "text": [
            "Looking in indexes: https://pypi.org/simple, https://us-python.pkg.dev/colab-wheels/public/simple/\n",
            "Requirement already satisfied: contractions in /usr/local/lib/python3.9/dist-packages (0.1.73)\n",
            "Requirement already satisfied: textsearch>=0.0.21 in /usr/local/lib/python3.9/dist-packages (from contractions) (0.0.24)\n",
            "Requirement already satisfied: anyascii in /usr/local/lib/python3.9/dist-packages (from textsearch>=0.0.21->contractions) (0.3.1)\n",
            "Requirement already satisfied: pyahocorasick in /usr/local/lib/python3.9/dist-packages (from textsearch>=0.0.21->contractions) (2.0.0)\n",
            "Looking in indexes: https://pypi.org/simple, https://us-python.pkg.dev/colab-wheels/public/simple/\n",
            "Collecting wget\n",
            "  Downloading wget-3.2.zip (10 kB)\n",
            "  Preparing metadata (setup.py) ... \u001b[?25l\u001b[?25hdone\n",
            "Building wheels for collected packages: wget\n",
            "  Building wheel for wget (setup.py) ... \u001b[?25l\u001b[?25hdone\n",
            "  Created wheel for wget: filename=wget-3.2-py3-none-any.whl size=9673 sha256=167867f601bc63b2a36bd07a177cab897da069816a527ad8b723268efafd2ec1\n",
            "  Stored in directory: /root/.cache/pip/wheels/04/5f/3e/46cc37c5d698415694d83f607f833f83f0149e49b3af9d0f38\n",
            "Successfully built wget\n",
            "Installing collected packages: wget\n",
            "Successfully installed wget-3.2\n"
          ]
        }
      ]
    },
    {
      "cell_type": "code",
      "source": [
        "from google.colab import drive\n",
        "drive.mount(\"/content/drive\")"
      ],
      "metadata": {
        "colab": {
          "base_uri": "https://localhost:8080/"
        },
        "id": "RoFZafflL4vE",
        "outputId": "00cb4722-a4fd-49f4-9ef1-4b940616b40d"
      },
      "execution_count": null,
      "outputs": [
        {
          "output_type": "stream",
          "name": "stdout",
          "text": [
            "Mounted at /content/drive\n"
          ]
        }
      ]
    },
    {
      "cell_type": "code",
      "execution_count": null,
      "metadata": {
        "id": "kacD1Gv0JIiU"
      },
      "outputs": [],
      "source": [
        "import os.path\n",
        "import wget\n",
        "import shutil\n",
        "\n",
        "import numpy as np\n",
        "import pandas as pd\n",
        "\n",
        "# Expands English contractions in Text (I'd -> I would)\n",
        "# https://pypi.org/project/contractions/\n",
        "import contractions\n",
        "\n",
        "import re  # library enabling the use of REGEX Operations to filter unwanted characters\n",
        "\n",
        "import tensorflow as tf\n",
        "\n",
        "import tensorflow.keras as keras\n",
        "import tensorflow_hub as hub\n",
        "\n",
        "from tensorflow.keras import Model\n",
        "from tensorflow.keras.layers import Dense\n",
        "\n",
        "from sklearn.model_selection import train_test_split\n",
        "\n",
        "import matplotlib.pyplot as plt"
      ]
    },
    {
      "cell_type": "code",
      "source": [],
      "metadata": {
        "id": "8I7UOiPOLswO"
      },
      "execution_count": null,
      "outputs": []
    },
    {
      "cell_type": "code",
      "source": [
        "train_df = pd.read_csv('/content/drive/MyDrive/DSL project/train_reviews.csv')"
      ],
      "metadata": {
        "id": "jVxQ90ZYKipt"
      },
      "execution_count": null,
      "outputs": []
    },
    {
      "cell_type": "code",
      "source": [
        "train_df.head()"
      ],
      "metadata": {
        "colab": {
          "base_uri": "https://localhost:8080/",
          "height": 458
        },
        "id": "19c6mKCLM49K",
        "outputId": "bdeeceeb-9c2b-4310-9040-c91fa5f902ba"
      },
      "execution_count": null,
      "outputs": [
        {
          "output_type": "execute_result",
          "data": {
            "text/plain": [
              "               review_title  \\\n",
              "0             Super product   \n",
              "1               Very sturdy   \n",
              "2                Five Stars   \n",
              "3  Great portable irrigator   \n",
              "4                Four Stars   \n",
              "\n",
              "                                         review_body review_date  \\\n",
              "0  My husband has a hard time sleeping, the very ...  2020-04-13   \n",
              "1                                              Rving  2020-08-29   \n",
              "2  has dramatically improved my toe nail appearances  2018-02-27   \n",
              "3  I recently got braces and needed this for work...  2012-05-16   \n",
              "4      The Salad Shooter works great and saves time.  2015-01-05   \n",
              "\n",
              "   review_rating  number_of_photos  helpful_vote  reviewer_ID  fake_asin  \\\n",
              "0              5                 0             0       380263          1   \n",
              "1              5                 0             0       845137          0   \n",
              "2              5                 0             0       659759          0   \n",
              "3              5                 0             1        73493          0   \n",
              "4              4                 0             0       714841          0   \n",
              "\n",
              "   fake_review  product_ID  review_ID  \n",
              "0            1         389      34510  \n",
              "1            0          99     381688  \n",
              "2            0         107     417933  \n",
              "3            0          66     166465  \n",
              "4            0          14     289006  "
            ],
            "text/html": [
              "\n",
              "  <div id=\"df-5c220594-cdc5-4e4a-824f-5fe056f44d96\">\n",
              "    <div class=\"colab-df-container\">\n",
              "      <div>\n",
              "<style scoped>\n",
              "    .dataframe tbody tr th:only-of-type {\n",
              "        vertical-align: middle;\n",
              "    }\n",
              "\n",
              "    .dataframe tbody tr th {\n",
              "        vertical-align: top;\n",
              "    }\n",
              "\n",
              "    .dataframe thead th {\n",
              "        text-align: right;\n",
              "    }\n",
              "</style>\n",
              "<table border=\"1\" class=\"dataframe\">\n",
              "  <thead>\n",
              "    <tr style=\"text-align: right;\">\n",
              "      <th></th>\n",
              "      <th>review_title</th>\n",
              "      <th>review_body</th>\n",
              "      <th>review_date</th>\n",
              "      <th>review_rating</th>\n",
              "      <th>number_of_photos</th>\n",
              "      <th>helpful_vote</th>\n",
              "      <th>reviewer_ID</th>\n",
              "      <th>fake_asin</th>\n",
              "      <th>fake_review</th>\n",
              "      <th>product_ID</th>\n",
              "      <th>review_ID</th>\n",
              "    </tr>\n",
              "  </thead>\n",
              "  <tbody>\n",
              "    <tr>\n",
              "      <th>0</th>\n",
              "      <td>Super product</td>\n",
              "      <td>My husband has a hard time sleeping, the very ...</td>\n",
              "      <td>2020-04-13</td>\n",
              "      <td>5</td>\n",
              "      <td>0</td>\n",
              "      <td>0</td>\n",
              "      <td>380263</td>\n",
              "      <td>1</td>\n",
              "      <td>1</td>\n",
              "      <td>389</td>\n",
              "      <td>34510</td>\n",
              "    </tr>\n",
              "    <tr>\n",
              "      <th>1</th>\n",
              "      <td>Very sturdy</td>\n",
              "      <td>Rving</td>\n",
              "      <td>2020-08-29</td>\n",
              "      <td>5</td>\n",
              "      <td>0</td>\n",
              "      <td>0</td>\n",
              "      <td>845137</td>\n",
              "      <td>0</td>\n",
              "      <td>0</td>\n",
              "      <td>99</td>\n",
              "      <td>381688</td>\n",
              "    </tr>\n",
              "    <tr>\n",
              "      <th>2</th>\n",
              "      <td>Five Stars</td>\n",
              "      <td>has dramatically improved my toe nail appearances</td>\n",
              "      <td>2018-02-27</td>\n",
              "      <td>5</td>\n",
              "      <td>0</td>\n",
              "      <td>0</td>\n",
              "      <td>659759</td>\n",
              "      <td>0</td>\n",
              "      <td>0</td>\n",
              "      <td>107</td>\n",
              "      <td>417933</td>\n",
              "    </tr>\n",
              "    <tr>\n",
              "      <th>3</th>\n",
              "      <td>Great portable irrigator</td>\n",
              "      <td>I recently got braces and needed this for work...</td>\n",
              "      <td>2012-05-16</td>\n",
              "      <td>5</td>\n",
              "      <td>0</td>\n",
              "      <td>1</td>\n",
              "      <td>73493</td>\n",
              "      <td>0</td>\n",
              "      <td>0</td>\n",
              "      <td>66</td>\n",
              "      <td>166465</td>\n",
              "    </tr>\n",
              "    <tr>\n",
              "      <th>4</th>\n",
              "      <td>Four Stars</td>\n",
              "      <td>The Salad Shooter works great and saves time.</td>\n",
              "      <td>2015-01-05</td>\n",
              "      <td>4</td>\n",
              "      <td>0</td>\n",
              "      <td>0</td>\n",
              "      <td>714841</td>\n",
              "      <td>0</td>\n",
              "      <td>0</td>\n",
              "      <td>14</td>\n",
              "      <td>289006</td>\n",
              "    </tr>\n",
              "  </tbody>\n",
              "</table>\n",
              "</div>\n",
              "      <button class=\"colab-df-convert\" onclick=\"convertToInteractive('df-5c220594-cdc5-4e4a-824f-5fe056f44d96')\"\n",
              "              title=\"Convert this dataframe to an interactive table.\"\n",
              "              style=\"display:none;\">\n",
              "        \n",
              "  <svg xmlns=\"http://www.w3.org/2000/svg\" height=\"24px\"viewBox=\"0 0 24 24\"\n",
              "       width=\"24px\">\n",
              "    <path d=\"M0 0h24v24H0V0z\" fill=\"none\"/>\n",
              "    <path d=\"M18.56 5.44l.94 2.06.94-2.06 2.06-.94-2.06-.94-.94-2.06-.94 2.06-2.06.94zm-11 1L8.5 8.5l.94-2.06 2.06-.94-2.06-.94L8.5 2.5l-.94 2.06-2.06.94zm10 10l.94 2.06.94-2.06 2.06-.94-2.06-.94-.94-2.06-.94 2.06-2.06.94z\"/><path d=\"M17.41 7.96l-1.37-1.37c-.4-.4-.92-.59-1.43-.59-.52 0-1.04.2-1.43.59L10.3 9.45l-7.72 7.72c-.78.78-.78 2.05 0 2.83L4 21.41c.39.39.9.59 1.41.59.51 0 1.02-.2 1.41-.59l7.78-7.78 2.81-2.81c.8-.78.8-2.07 0-2.86zM5.41 20L4 18.59l7.72-7.72 1.47 1.35L5.41 20z\"/>\n",
              "  </svg>\n",
              "      </button>\n",
              "      \n",
              "  <style>\n",
              "    .colab-df-container {\n",
              "      display:flex;\n",
              "      flex-wrap:wrap;\n",
              "      gap: 12px;\n",
              "    }\n",
              "\n",
              "    .colab-df-convert {\n",
              "      background-color: #E8F0FE;\n",
              "      border: none;\n",
              "      border-radius: 50%;\n",
              "      cursor: pointer;\n",
              "      display: none;\n",
              "      fill: #1967D2;\n",
              "      height: 32px;\n",
              "      padding: 0 0 0 0;\n",
              "      width: 32px;\n",
              "    }\n",
              "\n",
              "    .colab-df-convert:hover {\n",
              "      background-color: #E2EBFA;\n",
              "      box-shadow: 0px 1px 2px rgba(60, 64, 67, 0.3), 0px 1px 3px 1px rgba(60, 64, 67, 0.15);\n",
              "      fill: #174EA6;\n",
              "    }\n",
              "\n",
              "    [theme=dark] .colab-df-convert {\n",
              "      background-color: #3B4455;\n",
              "      fill: #D2E3FC;\n",
              "    }\n",
              "\n",
              "    [theme=dark] .colab-df-convert:hover {\n",
              "      background-color: #434B5C;\n",
              "      box-shadow: 0px 1px 3px 1px rgba(0, 0, 0, 0.15);\n",
              "      filter: drop-shadow(0px 1px 2px rgba(0, 0, 0, 0.3));\n",
              "      fill: #FFFFFF;\n",
              "    }\n",
              "  </style>\n",
              "\n",
              "      <script>\n",
              "        const buttonEl =\n",
              "          document.querySelector('#df-5c220594-cdc5-4e4a-824f-5fe056f44d96 button.colab-df-convert');\n",
              "        buttonEl.style.display =\n",
              "          google.colab.kernel.accessAllowed ? 'block' : 'none';\n",
              "\n",
              "        async function convertToInteractive(key) {\n",
              "          const element = document.querySelector('#df-5c220594-cdc5-4e4a-824f-5fe056f44d96');\n",
              "          const dataTable =\n",
              "            await google.colab.kernel.invokeFunction('convertToInteractive',\n",
              "                                                     [key], {});\n",
              "          if (!dataTable) return;\n",
              "\n",
              "          const docLinkHtml = 'Like what you see? Visit the ' +\n",
              "            '<a target=\"_blank\" href=https://colab.research.google.com/notebooks/data_table.ipynb>data table notebook</a>'\n",
              "            + ' to learn more about interactive tables.';\n",
              "          element.innerHTML = '';\n",
              "          dataTable['output_type'] = 'display_data';\n",
              "          await google.colab.output.renderOutput(dataTable, element);\n",
              "          const docLink = document.createElement('div');\n",
              "          docLink.innerHTML = docLinkHtml;\n",
              "          element.appendChild(docLink);\n",
              "        }\n",
              "      </script>\n",
              "    </div>\n",
              "  </div>\n",
              "  "
            ]
          },
          "metadata": {},
          "execution_count": 10
        }
      ]
    },
    {
      "cell_type": "code",
      "source": [
        "train_df['fake_review'].value_counts()[1]"
      ],
      "metadata": {
        "colab": {
          "base_uri": "https://localhost:8080/"
        },
        "id": "D2N0gQtOZy64",
        "outputId": "420a9b74-28f6-4dee-ce37-df8b04a04f50"
      },
      "execution_count": 53,
      "outputs": [
        {
          "output_type": "execute_result",
          "data": {
            "text/plain": [
              "20065"
            ]
          },
          "metadata": {},
          "execution_count": 53
        }
      ]
    },
    {
      "cell_type": "code",
      "source": [
        "y_val.value_counts()[1]"
      ],
      "metadata": {
        "colab": {
          "base_uri": "https://localhost:8080/"
        },
        "id": "ufGh2B-saHKT",
        "outputId": "5f762cc7-16a9-4a2a-9327-0da021ab73ae"
      },
      "execution_count": 54,
      "outputs": [
        {
          "output_type": "execute_result",
          "data": {
            "text/plain": [
              "0.051405438435685916"
            ]
          },
          "metadata": {},
          "execution_count": 54
        }
      ]
    },
    {
      "cell_type": "code",
      "source": [
        "def preprocess(text):  # Data Preprocessing\n",
        "    text = str(text)\n",
        "    text = text.lower()  # All text must be converted to lowercase to reduce duplicate detection and processing of the\n",
        "    # same word\n",
        "    text = contractions.fix(text)  # Expands all English contractions to reduce duplicate detection and processing of\n",
        "    # the same expression (who's -> who is)\n",
        "\n",
        "    # Filtering unwanted characters via Regular Expressions\n",
        "    text = re.sub(r\"\\W\", \" \", text)\n",
        "    text = re.sub(r\"\\d\", \" \", text)\n",
        "    text = re.sub(r\"\\s+[a-z]\\s+\", \" \", text)\n",
        "    text = re.sub(r\"^[a-z]\\s+\", \" \", text)\n",
        "    text = re.sub(r\"\\s+[a-z]$\", \" \", text)\n",
        "    text = re.sub(r\"\\s+\", \" \", text)\n",
        "\n",
        "    return text"
      ],
      "metadata": {
        "id": "BBpPdq-xM_sh"
      },
      "execution_count": null,
      "outputs": []
    },
    {
      "cell_type": "code",
      "source": [
        "train_df[\"review_body\"] = train_df['review_body'].apply(lambda x: preprocess(x))"
      ],
      "metadata": {
        "id": "IQ2RhyK2NOPV"
      },
      "execution_count": null,
      "outputs": []
    },
    {
      "cell_type": "code",
      "source": [
        "all_cols = train_df.columns\n",
        "req_cols = ['review_body','fake_review']\n",
        "\n",
        "train_shortened_df = train_df[req_cols]"
      ],
      "metadata": {
        "id": "9woe0OOGN43F"
      },
      "execution_count": null,
      "outputs": []
    },
    {
      "cell_type": "code",
      "source": [
        "train_shortened_df.head()"
      ],
      "metadata": {
        "colab": {
          "base_uri": "https://localhost:8080/",
          "height": 206
        },
        "id": "DHEpXSBjPAZd",
        "outputId": "090429d5-e51a-465c-d79d-b93af3d3490b"
      },
      "execution_count": null,
      "outputs": [
        {
          "output_type": "execute_result",
          "data": {
            "text/plain": [
              "                                         review_body  fake_review\n",
              "0  my husband has hard time sleeping the very fir...            1\n",
              "1                                              rving            0\n",
              "2  has dramatically improved my toe nail appearances            0\n",
              "3   recently got braces and needed this for work ...            0\n",
              "4      the salad shooter works great and saves time             0"
            ],
            "text/html": [
              "\n",
              "  <div id=\"df-33b41874-b498-4e1b-82c6-363fec491a92\">\n",
              "    <div class=\"colab-df-container\">\n",
              "      <div>\n",
              "<style scoped>\n",
              "    .dataframe tbody tr th:only-of-type {\n",
              "        vertical-align: middle;\n",
              "    }\n",
              "\n",
              "    .dataframe tbody tr th {\n",
              "        vertical-align: top;\n",
              "    }\n",
              "\n",
              "    .dataframe thead th {\n",
              "        text-align: right;\n",
              "    }\n",
              "</style>\n",
              "<table border=\"1\" class=\"dataframe\">\n",
              "  <thead>\n",
              "    <tr style=\"text-align: right;\">\n",
              "      <th></th>\n",
              "      <th>review_body</th>\n",
              "      <th>fake_review</th>\n",
              "    </tr>\n",
              "  </thead>\n",
              "  <tbody>\n",
              "    <tr>\n",
              "      <th>0</th>\n",
              "      <td>my husband has hard time sleeping the very fir...</td>\n",
              "      <td>1</td>\n",
              "    </tr>\n",
              "    <tr>\n",
              "      <th>1</th>\n",
              "      <td>rving</td>\n",
              "      <td>0</td>\n",
              "    </tr>\n",
              "    <tr>\n",
              "      <th>2</th>\n",
              "      <td>has dramatically improved my toe nail appearances</td>\n",
              "      <td>0</td>\n",
              "    </tr>\n",
              "    <tr>\n",
              "      <th>3</th>\n",
              "      <td>recently got braces and needed this for work ...</td>\n",
              "      <td>0</td>\n",
              "    </tr>\n",
              "    <tr>\n",
              "      <th>4</th>\n",
              "      <td>the salad shooter works great and saves time</td>\n",
              "      <td>0</td>\n",
              "    </tr>\n",
              "  </tbody>\n",
              "</table>\n",
              "</div>\n",
              "      <button class=\"colab-df-convert\" onclick=\"convertToInteractive('df-33b41874-b498-4e1b-82c6-363fec491a92')\"\n",
              "              title=\"Convert this dataframe to an interactive table.\"\n",
              "              style=\"display:none;\">\n",
              "        \n",
              "  <svg xmlns=\"http://www.w3.org/2000/svg\" height=\"24px\"viewBox=\"0 0 24 24\"\n",
              "       width=\"24px\">\n",
              "    <path d=\"M0 0h24v24H0V0z\" fill=\"none\"/>\n",
              "    <path d=\"M18.56 5.44l.94 2.06.94-2.06 2.06-.94-2.06-.94-.94-2.06-.94 2.06-2.06.94zm-11 1L8.5 8.5l.94-2.06 2.06-.94-2.06-.94L8.5 2.5l-.94 2.06-2.06.94zm10 10l.94 2.06.94-2.06 2.06-.94-2.06-.94-.94-2.06-.94 2.06-2.06.94z\"/><path d=\"M17.41 7.96l-1.37-1.37c-.4-.4-.92-.59-1.43-.59-.52 0-1.04.2-1.43.59L10.3 9.45l-7.72 7.72c-.78.78-.78 2.05 0 2.83L4 21.41c.39.39.9.59 1.41.59.51 0 1.02-.2 1.41-.59l7.78-7.78 2.81-2.81c.8-.78.8-2.07 0-2.86zM5.41 20L4 18.59l7.72-7.72 1.47 1.35L5.41 20z\"/>\n",
              "  </svg>\n",
              "      </button>\n",
              "      \n",
              "  <style>\n",
              "    .colab-df-container {\n",
              "      display:flex;\n",
              "      flex-wrap:wrap;\n",
              "      gap: 12px;\n",
              "    }\n",
              "\n",
              "    .colab-df-convert {\n",
              "      background-color: #E8F0FE;\n",
              "      border: none;\n",
              "      border-radius: 50%;\n",
              "      cursor: pointer;\n",
              "      display: none;\n",
              "      fill: #1967D2;\n",
              "      height: 32px;\n",
              "      padding: 0 0 0 0;\n",
              "      width: 32px;\n",
              "    }\n",
              "\n",
              "    .colab-df-convert:hover {\n",
              "      background-color: #E2EBFA;\n",
              "      box-shadow: 0px 1px 2px rgba(60, 64, 67, 0.3), 0px 1px 3px 1px rgba(60, 64, 67, 0.15);\n",
              "      fill: #174EA6;\n",
              "    }\n",
              "\n",
              "    [theme=dark] .colab-df-convert {\n",
              "      background-color: #3B4455;\n",
              "      fill: #D2E3FC;\n",
              "    }\n",
              "\n",
              "    [theme=dark] .colab-df-convert:hover {\n",
              "      background-color: #434B5C;\n",
              "      box-shadow: 0px 1px 3px 1px rgba(0, 0, 0, 0.15);\n",
              "      filter: drop-shadow(0px 1px 2px rgba(0, 0, 0, 0.3));\n",
              "      fill: #FFFFFF;\n",
              "    }\n",
              "  </style>\n",
              "\n",
              "      <script>\n",
              "        const buttonEl =\n",
              "          document.querySelector('#df-33b41874-b498-4e1b-82c6-363fec491a92 button.colab-df-convert');\n",
              "        buttonEl.style.display =\n",
              "          google.colab.kernel.accessAllowed ? 'block' : 'none';\n",
              "\n",
              "        async function convertToInteractive(key) {\n",
              "          const element = document.querySelector('#df-33b41874-b498-4e1b-82c6-363fec491a92');\n",
              "          const dataTable =\n",
              "            await google.colab.kernel.invokeFunction('convertToInteractive',\n",
              "                                                     [key], {});\n",
              "          if (!dataTable) return;\n",
              "\n",
              "          const docLinkHtml = 'Like what you see? Visit the ' +\n",
              "            '<a target=\"_blank\" href=https://colab.research.google.com/notebooks/data_table.ipynb>data table notebook</a>'\n",
              "            + ' to learn more about interactive tables.';\n",
              "          element.innerHTML = '';\n",
              "          dataTable['output_type'] = 'display_data';\n",
              "          await google.colab.output.renderOutput(dataTable, element);\n",
              "          const docLink = document.createElement('div');\n",
              "          docLink.innerHTML = docLinkHtml;\n",
              "          element.appendChild(docLink);\n",
              "        }\n",
              "      </script>\n",
              "    </div>\n",
              "  </div>\n",
              "  "
            ]
          },
          "metadata": {},
          "execution_count": 17
        }
      ]
    },
    {
      "cell_type": "code",
      "source": [
        "x_train, x_testval, y_train, y_testval = train_test_split(train_shortened_df[['review_body']], train_shortened_df[['fake_review']] , test_size = 0.20)\n",
        "x_test, x_val, y_test, y_val = train_test_split(x_testval[['review_body']], y_testval[['fake_review']] , test_size = 0.50)"
      ],
      "metadata": {
        "id": "2eVnJgjpODOf"
      },
      "execution_count": null,
      "outputs": []
    },
    {
      "cell_type": "code",
      "source": [
        "model = \"https://tfhub.dev/google/nnlm-en-dim50/2\" # pre-trained Tensoflow Hub Model\n",
        "\n",
        "# trainable=False means we have frozen the weights of the pre-trained model, no training will happen on these weights for now\n",
        "hub_layer = hub.KerasLayer(model, input_shape=[], dtype=tf.string, trainable=False) \n",
        "\n",
        "model_classifier = tf.keras.Sequential()\n",
        "model_classifier.add(hub_layer)  # Adding pre-trained Tensorflow Hub Model to our own model\n",
        "\n",
        "model_classifier.add(Dense(16, activation='relu'))\n",
        "\n",
        "# 1D outputting final layer with Sigmoid Activation Function to predict Fake Reviews (LABEL) in a Binary Fashion\n",
        "model_classifier.add(Dense(1, activation='sigmoid'))"
      ],
      "metadata": {
        "colab": {
          "base_uri": "https://localhost:8080/"
        },
        "id": "G-MSosYtQfg2",
        "outputId": "e5a7e385-e100-48cf-8ecf-e9398c818908"
      },
      "execution_count": null,
      "outputs": [
        {
          "output_type": "stream",
          "name": "stderr",
          "text": [
            "WARNING:tensorflow:Please fix your imports. Module tensorflow.python.training.tracking.data_structures has been moved to tensorflow.python.trackable.data_structures. The old module will be deleted in version 2.11.\n",
            "WARNING:tensorflow:From /usr/local/lib/python3.9/dist-packages/tensorflow/python/autograph/pyct/static_analysis/liveness.py:83: Analyzer.lamba_check (from tensorflow.python.autograph.pyct.static_analysis.liveness) is deprecated and will be removed after 2023-09-23.\n",
            "Instructions for updating:\n",
            "Lambda fuctions will be no more assumed to be used in the statement where they are used, or at least in the same block. https://github.com/tensorflow/tensorflow/issues/56089\n"
          ]
        }
      ]
    },
    {
      "cell_type": "code",
      "source": [
        "model_classifier.compile(optimizer='adam',\n",
        "                    loss=tf.losses.BinaryCrossentropy(),\n",
        "                    metrics=[tf.metrics.BinaryAccuracy(threshold=0.5, name='acc')])"
      ],
      "metadata": {
        "id": "eNZP6couQq5g"
      },
      "execution_count": null,
      "outputs": []
    },
    {
      "cell_type": "code",
      "source": [
        "model_classifier.summary()"
      ],
      "metadata": {
        "colab": {
          "base_uri": "https://localhost:8080/"
        },
        "id": "9MhM5WPzQ06i",
        "outputId": "c1dd9824-d08c-460b-dd49-6a4a36c6e832"
      },
      "execution_count": null,
      "outputs": [
        {
          "output_type": "stream",
          "name": "stdout",
          "text": [
            "Model: \"sequential\"\n",
            "_________________________________________________________________\n",
            " Layer (type)                Output Shape              Param #   \n",
            "=================================================================\n",
            " keras_layer (KerasLayer)    (None, 50)                48190600  \n",
            "                                                                 \n",
            " dense (Dense)               (None, 16)                816       \n",
            "                                                                 \n",
            " dense_1 (Dense)             (None, 1)                 17        \n",
            "                                                                 \n",
            "=================================================================\n",
            "Total params: 48,191,433\n",
            "Trainable params: 833\n",
            "Non-trainable params: 48,190,600\n",
            "_________________________________________________________________\n"
          ]
        }
      ]
    },
    {
      "cell_type": "code",
      "source": [
        "train_df.shape"
      ],
      "metadata": {
        "colab": {
          "base_uri": "https://localhost:8080/"
        },
        "id": "kfMSaq42RlOV",
        "outputId": "075e37d7-e7c4-44f8-9701-4b87c10f4f85"
      },
      "execution_count": null,
      "outputs": [
        {
          "output_type": "execute_result",
          "data": {
            "text/plain": [
              "(392760, 11)"
            ]
          },
          "metadata": {},
          "execution_count": 23
        }
      ]
    },
    {
      "cell_type": "code",
      "source": [
        "history_frozen_weights = model_classifier.fit(x_train,\n",
        "                            y_train,\n",
        "                            epochs=30,\n",
        "                            batch_size=65460,\n",
        "                            validation_data=(x_val, y_val),\n",
        "                            verbose=1)\n",
        "\n",
        "model_classifier.save(\"fakeReviewDetector_frozen_weights.hdf5\")"
      ],
      "metadata": {
        "colab": {
          "base_uri": "https://localhost:8080/"
        },
        "id": "CbRcLRRQQ3KR",
        "outputId": "b4de3dc4-f7c6-46d7-aa7d-aeb7b9d0fea4"
      },
      "execution_count": null,
      "outputs": [
        {
          "output_type": "stream",
          "name": "stdout",
          "text": [
            "Epoch 1/30\n",
            "5/5 [==============================] - 7s 2s/step - loss: 0.1986 - acc: 0.9491 - val_loss: 0.2002 - val_acc: 0.9486\n",
            "Epoch 2/30\n",
            "5/5 [==============================] - 6s 2s/step - loss: 0.1986 - acc: 0.9491 - val_loss: 0.2002 - val_acc: 0.9486\n",
            "Epoch 3/30\n",
            "5/5 [==============================] - 6s 1s/step - loss: 0.1986 - acc: 0.9491 - val_loss: 0.2002 - val_acc: 0.9486\n",
            "Epoch 4/30\n",
            "5/5 [==============================] - 6s 2s/step - loss: 0.1986 - acc: 0.9491 - val_loss: 0.2002 - val_acc: 0.9486\n",
            "Epoch 5/30\n",
            "5/5 [==============================] - 7s 2s/step - loss: 0.1986 - acc: 0.9491 - val_loss: 0.2002 - val_acc: 0.9486\n",
            "Epoch 6/30\n",
            "5/5 [==============================] - 6s 2s/step - loss: 0.1986 - acc: 0.9491 - val_loss: 0.2002 - val_acc: 0.9486\n",
            "Epoch 7/30\n",
            "5/5 [==============================] - 6s 2s/step - loss: 0.1986 - acc: 0.9491 - val_loss: 0.2002 - val_acc: 0.9486\n",
            "Epoch 8/30\n",
            "5/5 [==============================] - 4s 1s/step - loss: 0.1986 - acc: 0.9491 - val_loss: 0.2002 - val_acc: 0.9486\n",
            "Epoch 9/30\n",
            "5/5 [==============================] - 5s 1s/step - loss: 0.1986 - acc: 0.9491 - val_loss: 0.2002 - val_acc: 0.9486\n",
            "Epoch 10/30\n",
            "5/5 [==============================] - 5s 1s/step - loss: 0.1986 - acc: 0.9491 - val_loss: 0.2002 - val_acc: 0.9486\n",
            "Epoch 11/30\n",
            "5/5 [==============================] - 4s 1s/step - loss: 0.1986 - acc: 0.9491 - val_loss: 0.2002 - val_acc: 0.9486\n",
            "Epoch 12/30\n",
            "5/5 [==============================] - 6s 2s/step - loss: 0.1986 - acc: 0.9491 - val_loss: 0.2002 - val_acc: 0.9486\n",
            "Epoch 13/30\n",
            "5/5 [==============================] - 5s 1s/step - loss: 0.1986 - acc: 0.9491 - val_loss: 0.2002 - val_acc: 0.9486\n",
            "Epoch 14/30\n",
            "5/5 [==============================] - 4s 1s/step - loss: 0.1985 - acc: 0.9491 - val_loss: 0.2002 - val_acc: 0.9486\n",
            "Epoch 15/30\n",
            "5/5 [==============================] - 6s 1s/step - loss: 0.1985 - acc: 0.9491 - val_loss: 0.2002 - val_acc: 0.9486\n",
            "Epoch 16/30\n",
            "5/5 [==============================] - 5s 1s/step - loss: 0.1985 - acc: 0.9491 - val_loss: 0.2002 - val_acc: 0.9486\n",
            "Epoch 17/30\n",
            "5/5 [==============================] - 5s 1s/step - loss: 0.1985 - acc: 0.9491 - val_loss: 0.2002 - val_acc: 0.9486\n",
            "Epoch 18/30\n",
            "5/5 [==============================] - 6s 1s/step - loss: 0.1985 - acc: 0.9491 - val_loss: 0.2002 - val_acc: 0.9486\n",
            "Epoch 19/30\n",
            "5/5 [==============================] - 6s 2s/step - loss: 0.1985 - acc: 0.9491 - val_loss: 0.2002 - val_acc: 0.9486\n",
            "Epoch 20/30\n",
            "5/5 [==============================] - 6s 2s/step - loss: 0.1985 - acc: 0.9491 - val_loss: 0.2002 - val_acc: 0.9486\n",
            "Epoch 21/30\n",
            "5/5 [==============================] - 6s 2s/step - loss: 0.1985 - acc: 0.9491 - val_loss: 0.2002 - val_acc: 0.9486\n",
            "Epoch 22/30\n",
            "5/5 [==============================] - 6s 1s/step - loss: 0.1985 - acc: 0.9491 - val_loss: 0.2002 - val_acc: 0.9486\n",
            "Epoch 23/30\n",
            "5/5 [==============================] - 6s 2s/step - loss: 0.1985 - acc: 0.9491 - val_loss: 0.2002 - val_acc: 0.9486\n",
            "Epoch 24/30\n",
            "5/5 [==============================] - 6s 2s/step - loss: 0.1985 - acc: 0.9491 - val_loss: 0.2002 - val_acc: 0.9486\n",
            "Epoch 25/30\n",
            "5/5 [==============================] - 5s 1s/step - loss: 0.1985 - acc: 0.9491 - val_loss: 0.2002 - val_acc: 0.9486\n",
            "Epoch 26/30\n",
            "5/5 [==============================] - 6s 2s/step - loss: 0.1985 - acc: 0.9491 - val_loss: 0.2002 - val_acc: 0.9486\n",
            "Epoch 27/30\n",
            "5/5 [==============================] - 5s 1s/step - loss: 0.1985 - acc: 0.9491 - val_loss: 0.2002 - val_acc: 0.9486\n",
            "Epoch 28/30\n",
            "5/5 [==============================] - 6s 2s/step - loss: 0.1985 - acc: 0.9491 - val_loss: 0.2002 - val_acc: 0.9486\n",
            "Epoch 29/30\n",
            "5/5 [==============================] - 7s 2s/step - loss: 0.1985 - acc: 0.9491 - val_loss: 0.2002 - val_acc: 0.9486\n",
            "Epoch 30/30\n",
            "5/5 [==============================] - 6s 2s/step - loss: 0.1985 - acc: 0.9491 - val_loss: 0.2002 - val_acc: 0.9486\n"
          ]
        }
      ]
    },
    {
      "cell_type": "code",
      "source": [
        "results = model_classifier.evaluate(x_test[['review_body']],  y_test[\"fake_review\"])\n",
        "\n",
        "print(f'Evaluation on all data has accuracy of: {results[1]} ')"
      ],
      "metadata": {
        "colab": {
          "base_uri": "https://localhost:8080/"
        },
        "id": "sfTFIoUjQ9dF",
        "outputId": "e232348a-85b6-4914-8142-52503f503179"
      },
      "execution_count": null,
      "outputs": [
        {
          "output_type": "stream",
          "name": "stdout",
          "text": [
            "1228/1228 [==============================] - 4s 3ms/step - loss: 0.2031 - acc: 0.9477\n",
            "Evaluation on all data has accuracy of: 0.9476525187492371 \n"
          ]
        }
      ]
    },
    {
      "cell_type": "code",
      "source": [
        "test_df = pd.read_csv('/content/drive/MyDrive/DSL project/test_reviews.csv')"
      ],
      "metadata": {
        "id": "hiK5S5qrUSCB"
      },
      "execution_count": null,
      "outputs": []
    },
    {
      "cell_type": "code",
      "source": [
        "test_df.head()"
      ],
      "metadata": {
        "colab": {
          "base_uri": "https://localhost:8080/",
          "height": 389
        },
        "id": "uk10G7PxVk0r",
        "outputId": "4b295c1a-8631-4aa6-ce9c-e5211a8ff06f"
      },
      "execution_count": null,
      "outputs": [
        {
          "output_type": "execute_result",
          "data": {
            "text/plain": [
              "                                     review_title  \\\n",
              "0                                 Fit of phone 7+   \n",
              "1                               Sturdy and simply   \n",
              "2                                   Great product   \n",
              "3                   Item got good reviews but ...   \n",
              "4  Great Sheet Protectors - Love the Easy Loading   \n",
              "\n",
              "                                         review_body review_date  \\\n",
              "0  I have the iPhone 7+ and it says it fits this....  2019-09-04   \n",
              "1  This product comes assembled and works simply ...  2020-08-22   \n",
              "2  I really like this product because 1st my kids...  2020-05-29   \n",
              "3  I couldn't get the product to stay in my ear. ...  2019-09-07   \n",
              "4  These sheet protectors were the perfect weight...  2012-10-05   \n",
              "\n",
              "   review_rating  number_of_photos  helpful_vote  reviewer_ID  fake_asin  \\\n",
              "0              4                 1             0       440934          0   \n",
              "1              5                 0             0      1044859          0   \n",
              "2              5                 0             0       377805          1   \n",
              "3              1                 0             2       747580          0   \n",
              "4              5                 0             0      1170571          0   \n",
              "\n",
              "   product_ID  review_ID  \n",
              "0         281     427196  \n",
              "1          17     205467  \n",
              "2         342     202189  \n",
              "3         212      56726  \n",
              "4          10     409558  "
            ],
            "text/html": [
              "\n",
              "  <div id=\"df-69aade18-684c-4524-a544-037261313ecc\">\n",
              "    <div class=\"colab-df-container\">\n",
              "      <div>\n",
              "<style scoped>\n",
              "    .dataframe tbody tr th:only-of-type {\n",
              "        vertical-align: middle;\n",
              "    }\n",
              "\n",
              "    .dataframe tbody tr th {\n",
              "        vertical-align: top;\n",
              "    }\n",
              "\n",
              "    .dataframe thead th {\n",
              "        text-align: right;\n",
              "    }\n",
              "</style>\n",
              "<table border=\"1\" class=\"dataframe\">\n",
              "  <thead>\n",
              "    <tr style=\"text-align: right;\">\n",
              "      <th></th>\n",
              "      <th>review_title</th>\n",
              "      <th>review_body</th>\n",
              "      <th>review_date</th>\n",
              "      <th>review_rating</th>\n",
              "      <th>number_of_photos</th>\n",
              "      <th>helpful_vote</th>\n",
              "      <th>reviewer_ID</th>\n",
              "      <th>fake_asin</th>\n",
              "      <th>product_ID</th>\n",
              "      <th>review_ID</th>\n",
              "    </tr>\n",
              "  </thead>\n",
              "  <tbody>\n",
              "    <tr>\n",
              "      <th>0</th>\n",
              "      <td>Fit of phone 7+</td>\n",
              "      <td>I have the iPhone 7+ and it says it fits this....</td>\n",
              "      <td>2019-09-04</td>\n",
              "      <td>4</td>\n",
              "      <td>1</td>\n",
              "      <td>0</td>\n",
              "      <td>440934</td>\n",
              "      <td>0</td>\n",
              "      <td>281</td>\n",
              "      <td>427196</td>\n",
              "    </tr>\n",
              "    <tr>\n",
              "      <th>1</th>\n",
              "      <td>Sturdy and simply</td>\n",
              "      <td>This product comes assembled and works simply ...</td>\n",
              "      <td>2020-08-22</td>\n",
              "      <td>5</td>\n",
              "      <td>0</td>\n",
              "      <td>0</td>\n",
              "      <td>1044859</td>\n",
              "      <td>0</td>\n",
              "      <td>17</td>\n",
              "      <td>205467</td>\n",
              "    </tr>\n",
              "    <tr>\n",
              "      <th>2</th>\n",
              "      <td>Great product</td>\n",
              "      <td>I really like this product because 1st my kids...</td>\n",
              "      <td>2020-05-29</td>\n",
              "      <td>5</td>\n",
              "      <td>0</td>\n",
              "      <td>0</td>\n",
              "      <td>377805</td>\n",
              "      <td>1</td>\n",
              "      <td>342</td>\n",
              "      <td>202189</td>\n",
              "    </tr>\n",
              "    <tr>\n",
              "      <th>3</th>\n",
              "      <td>Item got good reviews but ...</td>\n",
              "      <td>I couldn't get the product to stay in my ear. ...</td>\n",
              "      <td>2019-09-07</td>\n",
              "      <td>1</td>\n",
              "      <td>0</td>\n",
              "      <td>2</td>\n",
              "      <td>747580</td>\n",
              "      <td>0</td>\n",
              "      <td>212</td>\n",
              "      <td>56726</td>\n",
              "    </tr>\n",
              "    <tr>\n",
              "      <th>4</th>\n",
              "      <td>Great Sheet Protectors - Love the Easy Loading</td>\n",
              "      <td>These sheet protectors were the perfect weight...</td>\n",
              "      <td>2012-10-05</td>\n",
              "      <td>5</td>\n",
              "      <td>0</td>\n",
              "      <td>0</td>\n",
              "      <td>1170571</td>\n",
              "      <td>0</td>\n",
              "      <td>10</td>\n",
              "      <td>409558</td>\n",
              "    </tr>\n",
              "  </tbody>\n",
              "</table>\n",
              "</div>\n",
              "      <button class=\"colab-df-convert\" onclick=\"convertToInteractive('df-69aade18-684c-4524-a544-037261313ecc')\"\n",
              "              title=\"Convert this dataframe to an interactive table.\"\n",
              "              style=\"display:none;\">\n",
              "        \n",
              "  <svg xmlns=\"http://www.w3.org/2000/svg\" height=\"24px\"viewBox=\"0 0 24 24\"\n",
              "       width=\"24px\">\n",
              "    <path d=\"M0 0h24v24H0V0z\" fill=\"none\"/>\n",
              "    <path d=\"M18.56 5.44l.94 2.06.94-2.06 2.06-.94-2.06-.94-.94-2.06-.94 2.06-2.06.94zm-11 1L8.5 8.5l.94-2.06 2.06-.94-2.06-.94L8.5 2.5l-.94 2.06-2.06.94zm10 10l.94 2.06.94-2.06 2.06-.94-2.06-.94-.94-2.06-.94 2.06-2.06.94z\"/><path d=\"M17.41 7.96l-1.37-1.37c-.4-.4-.92-.59-1.43-.59-.52 0-1.04.2-1.43.59L10.3 9.45l-7.72 7.72c-.78.78-.78 2.05 0 2.83L4 21.41c.39.39.9.59 1.41.59.51 0 1.02-.2 1.41-.59l7.78-7.78 2.81-2.81c.8-.78.8-2.07 0-2.86zM5.41 20L4 18.59l7.72-7.72 1.47 1.35L5.41 20z\"/>\n",
              "  </svg>\n",
              "      </button>\n",
              "      \n",
              "  <style>\n",
              "    .colab-df-container {\n",
              "      display:flex;\n",
              "      flex-wrap:wrap;\n",
              "      gap: 12px;\n",
              "    }\n",
              "\n",
              "    .colab-df-convert {\n",
              "      background-color: #E8F0FE;\n",
              "      border: none;\n",
              "      border-radius: 50%;\n",
              "      cursor: pointer;\n",
              "      display: none;\n",
              "      fill: #1967D2;\n",
              "      height: 32px;\n",
              "      padding: 0 0 0 0;\n",
              "      width: 32px;\n",
              "    }\n",
              "\n",
              "    .colab-df-convert:hover {\n",
              "      background-color: #E2EBFA;\n",
              "      box-shadow: 0px 1px 2px rgba(60, 64, 67, 0.3), 0px 1px 3px 1px rgba(60, 64, 67, 0.15);\n",
              "      fill: #174EA6;\n",
              "    }\n",
              "\n",
              "    [theme=dark] .colab-df-convert {\n",
              "      background-color: #3B4455;\n",
              "      fill: #D2E3FC;\n",
              "    }\n",
              "\n",
              "    [theme=dark] .colab-df-convert:hover {\n",
              "      background-color: #434B5C;\n",
              "      box-shadow: 0px 1px 3px 1px rgba(0, 0, 0, 0.15);\n",
              "      filter: drop-shadow(0px 1px 2px rgba(0, 0, 0, 0.3));\n",
              "      fill: #FFFFFF;\n",
              "    }\n",
              "  </style>\n",
              "\n",
              "      <script>\n",
              "        const buttonEl =\n",
              "          document.querySelector('#df-69aade18-684c-4524-a544-037261313ecc button.colab-df-convert');\n",
              "        buttonEl.style.display =\n",
              "          google.colab.kernel.accessAllowed ? 'block' : 'none';\n",
              "\n",
              "        async function convertToInteractive(key) {\n",
              "          const element = document.querySelector('#df-69aade18-684c-4524-a544-037261313ecc');\n",
              "          const dataTable =\n",
              "            await google.colab.kernel.invokeFunction('convertToInteractive',\n",
              "                                                     [key], {});\n",
              "          if (!dataTable) return;\n",
              "\n",
              "          const docLinkHtml = 'Like what you see? Visit the ' +\n",
              "            '<a target=\"_blank\" href=https://colab.research.google.com/notebooks/data_table.ipynb>data table notebook</a>'\n",
              "            + ' to learn more about interactive tables.';\n",
              "          element.innerHTML = '';\n",
              "          dataTable['output_type'] = 'display_data';\n",
              "          await google.colab.output.renderOutput(dataTable, element);\n",
              "          const docLink = document.createElement('div');\n",
              "          docLink.innerHTML = docLinkHtml;\n",
              "          element.appendChild(docLink);\n",
              "        }\n",
              "      </script>\n",
              "    </div>\n",
              "  </div>\n",
              "  "
            ]
          },
          "metadata": {},
          "execution_count": 29
        }
      ]
    },
    {
      "cell_type": "code",
      "source": [
        "test_df[\"review_body\"] = test_df['review_body'].apply(lambda x: preprocess(x))"
      ],
      "metadata": {
        "id": "KQSeRR3AVobP"
      },
      "execution_count": null,
      "outputs": []
    },
    {
      "cell_type": "code",
      "source": [
        "yhat = model_classifier.predict(test_df[\"review_body\"] )"
      ],
      "metadata": {
        "colab": {
          "base_uri": "https://localhost:8080/"
        },
        "id": "2gK8VTBBVuSl",
        "outputId": "c3921531-27b0-49aa-c1f1-f2bb9b29c5d6"
      },
      "execution_count": null,
      "outputs": [
        {
          "output_type": "stream",
          "name": "stdout",
          "text": [
            "1364/1364 [==============================] - 4s 3ms/step\n"
          ]
        }
      ]
    },
    {
      "cell_type": "code",
      "source": [
        "yhat = model_classifier.predict(x_val)"
      ],
      "metadata": {
        "colab": {
          "base_uri": "https://localhost:8080/"
        },
        "id": "w3BM_0ubYP4W",
        "outputId": "51f58ec1-b692-446e-b061-75a3fb2fa630"
      },
      "execution_count": 43,
      "outputs": [
        {
          "output_type": "stream",
          "name": "stdout",
          "text": [
            "1228/1228 [==============================] - 6s 4ms/step\n"
          ]
        }
      ]
    },
    {
      "cell_type": "code",
      "source": [
        "yhat"
      ],
      "metadata": {
        "id": "U-Hve676WxQ-",
        "outputId": "2b249213-8b9d-4c2c-f3b8-d0dbf551b3a7",
        "colab": {
          "base_uri": "https://localhost:8080/"
        }
      },
      "execution_count": 44,
      "outputs": [
        {
          "output_type": "execute_result",
          "data": {
            "text/plain": [
              "array([[0.0572777 ],\n",
              "       [0.06663977],\n",
              "       [0.05878381],\n",
              "       ...,\n",
              "       [0.04273963],\n",
              "       [0.05866301],\n",
              "       [0.06973474]], dtype=float32)"
            ]
          },
          "metadata": {},
          "execution_count": 44
        }
      ]
    },
    {
      "cell_type": "code",
      "source": [
        "data['name'].value_counts()['sravan']"
      ],
      "metadata": {
        "colab": {
          "base_uri": "https://localhost:8080/"
        },
        "id": "6ALfEPNAZFcq",
        "outputId": "621291f2-797b-4a75-edc0-53de1fb43b47"
      },
      "execution_count": 49,
      "outputs": [
        {
          "output_type": "execute_result",
          "data": {
            "text/plain": [
              "fake_review    39276\n",
              "dtype: int64"
            ]
          },
          "metadata": {},
          "execution_count": 49
        }
      ]
    },
    {
      "cell_type": "code",
      "source": [
        "count = 0\n",
        "for i in range(len(yhat)):\n",
        "  if yhat[i] > 0.5:\n",
        "    count += 1\n",
        "count"
      ],
      "metadata": {
        "id": "Bs7OGjW0Wx9T",
        "colab": {
          "base_uri": "https://localhost:8080/"
        },
        "outputId": "e4b9f446-34f9-44c7-a150-ff4d613a62a0"
      },
      "execution_count": 45,
      "outputs": [
        {
          "output_type": "execute_result",
          "data": {
            "text/plain": [
              "0"
            ]
          },
          "metadata": {},
          "execution_count": 45
        }
      ]
    },
    {
      "cell_type": "code",
      "source": [
        "yhat"
      ],
      "metadata": {
        "colab": {
          "base_uri": "https://localhost:8080/"
        },
        "id": "Su0KfxbwXixG",
        "outputId": "721b6d42-2ca5-43f7-ff55-a970cbaae03b"
      },
      "execution_count": 36,
      "outputs": [
        {
          "output_type": "execute_result",
          "data": {
            "text/plain": [
              "0"
            ]
          },
          "metadata": {},
          "execution_count": 36
        }
      ]
    },
    {
      "cell_type": "code",
      "source": [],
      "metadata": {
        "id": "s4XcHqH4XjNN"
      },
      "execution_count": null,
      "outputs": []
    }
  ]
}